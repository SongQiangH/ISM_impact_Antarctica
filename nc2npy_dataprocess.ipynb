{
 "cells": [
  {
   "cell_type": "code",
   "execution_count": 1,
   "metadata": {},
   "outputs": [],
   "source": [
    "import cartopy.crs as ccrs\n",
    "import matplotlib.pylab as plt\n",
    "import numpy as np\n",
    "import xarray as xr\n",
    "import sys\n",
    "sys.path.append('/public/home/songqh/Documents/python_packages/')\n",
    "from sqh_toolbox import plot_figure\n",
    "import warnings\n",
    "warnings.filterwarnings(\"ignore\") \n",
    "plt.rcParams[\"font.family\"] = \"Liberation Sans\"\n",
    "plt.rcParams[\"font.weight\"] = \"regular\""
   ]
  },
  {
   "cell_type": "code",
   "execution_count": 2,
   "metadata": {},
   "outputs": [],
   "source": [
    "f_u = xr.open_dataset(\"/public/home/songqh/my_data/new_ERA5/monthly/ERA5_uwnd_1979-2024.nc\")\n",
    "uwnd = f_u.u.loc[f_u.time.dt.year.isin(np.arange(1979,2025)) & f_u.time.dt.month.isin([6,7,8]),200].groupby('time.year').mean('time').values[:]\n",
    "f_v = xr.open_dataset(\"/public/home/songqh/my_data/new_ERA5/monthly/ERA5_vwnd_1979-2024.nc\")\n",
    "vwnd = f_v.v.loc[f_v.time.dt.year.isin(np.arange(1979,2025)) & f_v.time.dt.month.isin([6,7,8]),200].groupby('time.year').mean('time').values[:]\n",
    "f_z = xr.open_dataset(\"/public/home/songqh/my_data/new_ERA5/monthly/ERA5_gph_1979-2024.nc\")\n",
    "gph = f_z.z.loc[f_z.time.dt.year.isin(np.arange(1979,2025)) & f_z.time.dt.month.isin([6,7,8]),200].groupby('time.year').mean('time').values[:]\n",
    "lon = f_z['longitude'].values\n",
    "lat = f_z['latitude'].values\n",
    "lev = f_z['level'].values"
   ]
  },
  {
   "cell_type": "code",
   "execution_count": 6,
   "metadata": {},
   "outputs": [],
   "source": [
    "f_u10 = xr.open_dataset(\"/public/home/songqh/my_data/new_ERA5/monthly/ERA5_u10_1979-2024.nc\")\n",
    "u10 = f_u10.u10.loc[f_u10.time.dt.year.isin(np.arange(1979,2025)) & f_u10.time.dt.month.isin([6,7,8])].groupby('time.year').mean('time').values[:]\n",
    "f_v10 = xr.open_dataset(\"/public/home/songqh/my_data/new_ERA5/monthly/ERA5_v10_1979-2024.nc\")\n",
    "v10 = f_v10.v10.loc[f_v10.time.dt.year.isin(np.arange(1979,2025)) & f_v10.time.dt.month.isin([6,7,8])].groupby('time.year').mean('time').values[:]\n",
    "f_t2m = xr.open_dataset(\"/public/home/songqh/my_data/new_ERA5/monthly/ERA5_t2m_1979-2024.nc\")\n",
    "t2m = f_t2m.t2m.loc[f_t2m.time.dt.year.isin(np.arange(1979,2025)) & f_t2m.time.dt.month.isin([6,7,8])].groupby('time.year').mean('time').values[:]\n",
    "f_slp = xr.open_dataset(\"/public/home/songqh/my_data/new_ERA5/monthly/ERA5_SLP_1979-2024.nc\")\n",
    "slp = f_slp.msl.loc[f_slp.time.dt.year.isin(np.arange(1979,2025)) & f_slp.time.dt.month.isin([6,7,8])].groupby('time.year').mean('time').values[:]"
   ]
  },
  {
   "cell_type": "code",
   "execution_count": 8,
   "metadata": {},
   "outputs": [],
   "source": [
    "np.save(\"/public/home/songqh/project/ISM_impact_Antarctica/data/gph_200hPa_1979-2024.npy\",gph)\n",
    "np.save(\"/public/home/songqh/project/ISM_impact_Antarctica/data/uwnd_200hPa_1979-2024.npy\",uwnd)\n",
    "np.save(\"/public/home/songqh/project/ISM_impact_Antarctica/data/vwnd_200hPa_1979-2024.npy\",vwnd)\n",
    "np.save(\"/public/home/songqh/project/ISM_impact_Antarctica/data/u10_1979-2024.npy\",u10)\n",
    "np.save(\"/public/home/songqh/project/ISM_impact_Antarctica/data/v10_1979-2024.npy\",v10)\n",
    "np.save(\"/public/home/songqh/project/ISM_impact_Antarctica/data/t2m_1979-2024.npy\",t2m)\n",
    "np.save(\"/public/home/songqh/project/ISM_impact_Antarctica/data/slp_1979-2024.npy\",slp)\n",
    "np.save(\"/public/home/songqh/project/ISM_impact_Antarctica/data/lon.npy\",lon)\n",
    "np.save(\"/public/home/songqh/project/ISM_impact_Antarctica/data/lat.npy\",lat)\n",
    "np.save(\"/public/home/songqh/project/ISM_impact_Antarctica/data/lev.npy\",lev)"
   ]
  }
 ],
 "metadata": {
  "kernelspec": {
   "display_name": "base",
   "language": "python",
   "name": "python3"
  },
  "language_info": {
   "codemirror_mode": {
    "name": "ipython",
    "version": 3
   },
   "file_extension": ".py",
   "mimetype": "text/x-python",
   "name": "python",
   "nbconvert_exporter": "python",
   "pygments_lexer": "ipython3",
   "version": "3.9.12"
  }
 },
 "nbformat": 4,
 "nbformat_minor": 2
}
