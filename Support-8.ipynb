{
 "cells": [
  {
   "cell_type": "code",
   "execution_count": null,
   "metadata": {},
   "outputs": [],
   "source": [
    "import cartopy.crs as ccrs\n",
    "import cartopy.feature as cfeature\n",
    "import matplotlib.pylab as plt\n",
    "import numpy as np\n",
    "import xarray as xr\n",
    "import cmaps\n",
    "import matplotlib as mpl\n",
    "import matplotlib.path as mpath  \n",
    "from cartopy.util import add_cyclic_point\n",
    "import sys\n",
    "sys.path.append(\"/public/home/songqh/Documents/python_packages\")\n",
    "from sqh_toolbox import plot_figure\n",
    "from waf import tnwaf\n",
    "plt.rcParams[\"font.family\"] = \"Liberation Sans\"\n",
    "plt.rcParams[\"font.weight\"] = \"regular\""
   ]
  },
  {
   "cell_type": "code",
   "execution_count": null,
   "metadata": {},
   "outputs": [],
   "source": [
    "file0 = xr.open_dataset(\"/public/home/songqh/my_data/ice_cover/HadISST_ice.nc\")\n",
    "file0.coords['longitude'] = np.mod(file0['longitude'], 360)\n",
    "file0 = file0.reindex({ 'longitude' : np.sort(file0['longitude'])})\n",
    "sic = file0['sic'].loc[file0.time.dt.year.isin(np.arange(1979,2025,1))\n",
    "                        & file0.time.dt.month.isin([6,7,8]),0:-90].groupby('time.year').mean('time')\n",
    "sic_mean = sic.mean('year')\n",
    "sic_ano = sic - sic_mean\n",
    "lon1 = file0['longitude']\n",
    "lat1 = file0['latitude'].loc[0:-90]"
   ]
  },
  {
   "cell_type": "code",
   "execution_count": null,
   "metadata": {},
   "outputs": [],
   "source": [
    "gph = np.load(\"/public/home/songqh/project/ISM_impact_Antarctic/data/gph_200hPa_1979-2024.npy\")\n",
    "uwnd = np.load(\"/public/home/songqh/project/ISM_impact_Antarctic/data/uwnd_200hPa_1979-2024.npy\")\n",
    "vwnd = np.load(\"/public/home/songqh/project/ISM_impact_Antarctic/data/vwnd_200hPa_1979-2024.npy\")\n",
    "u10 = np.load(\"/public/home/songqh/project/ISM_impact_Antarctic/data/u10_1979-2024.npy\")\n",
    "v10 = np.load(\"/public/home/songqh/project/ISM_impact_Antarctic/data/v10_1979-2024.npy\")\n",
    "t2m = np.load(\"/public/home/songqh/project/ISM_impact_Antarctic/data/t2m_1979-2024.npy\")\n",
    "slp = np.load(\"/public/home/songqh/project/ISM_impact_Antarctic/data/slp_1979-2024.npy\")\n",
    "lon = np.load(\"/public/home/songqh/project/ISM_impact_Antarctic/data/lon.npy\")\n",
    "lat = np.load(\"/public/home/songqh/project/ISM_impact_Antarctic/data/lat.npy\")\n",
    "ds_rws = xr.open_dataset(\"/public/home/songqh/project/ISM_impact_Antarctic/data/rws_output.nc\")\n",
    "rws =  ds_rws['s1']"
   ]
  },
  {
   "cell_type": "code",
   "execution_count": null,
   "metadata": {},
   "outputs": [],
   "source": [
    "gph_ano = gph - gph.mean(0)\n",
    "t2m_ano = t2m - t2m.mean(0)\n",
    "u10_ano = u10 - u10.mean(0)\n",
    "v10_ano = v10 - v10.mean(0)\n",
    "slp_ano = slp - slp.mean(0)\n",
    "rws_ano = rws - rws.mean(0)"
   ]
  },
  {
   "cell_type": "code",
   "execution_count": null,
   "metadata": {},
   "outputs": [],
   "source": [
    "def get_cmap_pr(n_colors: int, newcmap , method: int = None) -> list:\n",
    "    index = list(range(1, n_colors + 1))\n",
    "    color_list = [newcmap(i / n_colors) for i in index]\n",
    "    if method == 1:\n",
    "        color_list[0] = [1., 1., 1.]  \n",
    "    elif method == 2:\n",
    "        mid_index = len(color_list) // 2\n",
    "        color_list[mid_index] = [1., 1., 1.]  \n",
    "        color_list[mid_index - 1] = [1., 1., 1.]\n",
    "    return color_list\n",
    "new_CBR_coldhot = mpl.colors.ListedColormap(get_cmap_pr(10,cmaps.CBR_coldhot,method=2))\n",
    "new_cmocean_balance_r = mpl.colors.ListedColormap(get_cmap_pr(20,cmaps.cmocean_balance_r,method=2))"
   ]
  },
  {
   "cell_type": "code",
   "execution_count": null,
   "metadata": {},
   "outputs": [],
   "source": [
    "_,px,py = tnwaf(gph_ano[-2],uwnd,vwnd,lon,lat,200)\n",
    "px_copy = px.copy()\n",
    "py_copy = py.copy()\n",
    "px_copy[:110,:] = np.nan\n",
    "py_copy[:110,:] = np.nan"
   ]
  },
  {
   "cell_type": "code",
   "execution_count": null,
   "metadata": {},
   "outputs": [],
   "source": [
    "cycle_gph_ano,cycle_lon = add_cyclic_point(gph_ano, coord=lon)\n",
    "cycle_rws_ano,cycle_lon = add_cyclic_point(rws_ano, coord=lon)\n",
    "\n",
    "fig = plt.figure(figsize=(12,8))\n",
    "ax1 = fig.add_subplot(111,projection = ccrs.PlateCarree(central_longitude=150))\n",
    "ax1.draw_map([-60,280,-90,30],latspec=30) \n",
    "ax1.set_title(\"GPH&RWS&WAF@200hPa\",fontsize=20,loc='center')\n",
    "ax1.set_title(\"c\",fontsize=24,weight='bold',loc='left')\n",
    "cf1 = ax1.contourf(cycle_lon,lat,cycle_gph_ano[-2]/9.8, zorder=2,\n",
    "        levels=np.linspace(-200,200,11),extend = 'both',\n",
    "        transform=ccrs.PlateCarree(), cmap=new_CBR_coldhot)\n",
    "cycle_rws_ano[:,70:110,:] = 0\n",
    "cycle_rws_ano[:,160:180,:] = 0\n",
    "ax1.contour(cycle_lon,lat, cycle_rws_ano[-2],colors='purple', zorder=3,levels=[2,4,6,8,10,12],lw=3,transform=ccrs.PlateCarree())\n",
    "ax1.contour(cycle_lon,lat, cycle_rws_ano[-2],colors='purple', zorder=3,levels=[-4,-2],lw=3,transform=ccrs.PlateCarree())\n",
    "kk = 7\n",
    "q = ax1.quiver(lon[::kk],lat[::kk],px_copy[::kk,::kk],py_copy[::kk,::kk],alpha=0.7,color='g',scale=50, zorder=100,\n",
    "               width=0.003,headwidth=4, headlength=5, headaxislength=4,transform=ccrs.PlateCarree())\n",
    "qk = ax1.quiverkey(q, 1.04, 0.99, U=3, label='3',labelpos='N',\n",
    "    zorder=3, coordinates='axes',color='g',fontproperties={'size': 18},\n",
    "    labelcolor='k')\n",
    "cb = fig.colorbar(cf1,orientation='vertical',shrink=0.35,pad=0.02)\n",
    "cb.ax.set_colorbar(minor='off')\n",
    "fig.savefig(\"/public/home/songqh/project/ISM_impact_Antarctic/figures/response_figures/support-8c.jpeg\",dpi=600, bbox_inches='tight')"
   ]
  },
  {
   "cell_type": "code",
   "execution_count": null,
   "metadata": {},
   "outputs": [],
   "source": [
    "cycle_data,cycle_lon = add_cyclic_point(slp_ano, coord=lon)\n",
    "fig = plt.figure(figsize=(12,8))\n",
    "ax1 = fig.add_subplot(111,projection = ccrs.PlateCarree(central_longitude=150))\n",
    "ax1.draw_map([-60,280,-90,30],latspec=30)\n",
    "ax1.set_title(\"SLP&wind10m\",fontsize=20,loc='center')\n",
    "ax1.set_title(\"d\",fontsize=24,weight='bold',loc='left')\n",
    "cf1 = ax1.contourf(cycle_lon,lat,cycle_data[-2], zorder=2,levels=np.arange(-1200,1300,100),  \n",
    "                   extend = 'both',transform=ccrs.PlateCarree(), cmap=new_CBR_coldhot)\n",
    "kk=7\n",
    "u10_ano[-2,174:182,:],v10_ano[-2,174:182,:] = np.nan, np.nan\n",
    "q = ax1.quiver(lon[::kk],lat[::kk],u10_ano[-2,::kk,::kk],v10_ano[-2,::kk,::kk],color='k',\n",
    "           alpha=0.9,zorder=3,scale=50,headwidth=3,width=0.003,transform=ccrs.PlateCarree())\n",
    "qk = ax1.quiverkey(q, 1.04, 0.99, U=3, label='3',labelpos='N',\n",
    "    zorder=3, coordinates='axes',color='k',fontproperties={'size': 18},\n",
    "    labelcolor='k')\n",
    "cb = fig.colorbar(cf1,orientation='vertical',shrink=0.35,pad=0.02)\n",
    "cb.ax.set_colorbar(minor='off')\n",
    "cb.set_ticks(np.arange(-1200,1800,600))\n",
    "fig.savefig(\"/public/home/songqh/project/ISM_impact_Antarctic/figures/response_figures/support-8d.jpeg\",dpi=600, bbox_inches='tight')\n"
   ]
  },
  {
   "cell_type": "code",
   "execution_count": null,
   "metadata": {},
   "outputs": [],
   "source": [
    "cycle_data,cycle_lon = add_cyclic_point(t2m_ano, coord=lon)\n",
    "leftlon, rightlon, lowerlat, upperlat = (-180,180,-50,-90)\n",
    "img_extent = [leftlon, rightlon, lowerlat, upperlat]\n",
    "fig = plt.figure(figsize=(5,4))\n",
    "ax1 = plt.axes(projection=ccrs.Orthographic(central_longitude=120.0, central_latitude=-90.0, globe=None))\n",
    "ax1.gridlines(linestyle='--',zorder=2)\n",
    "theta = np.linspace(0, 2*np.pi, 100)\n",
    "center, radius = [0.5, 0.5], 0.5\n",
    "verts = np.vstack([np.sin(theta), np.cos(theta)]).T\n",
    "circle = mpath.Path(verts * radius + center)\n",
    "ax1.set_boundary(circle, transform=ax1.transAxes)\n",
    "ax1.add_feature(cfeature.COASTLINE.with_scale('110m'),color='k',linewidth=1.5,zorder=3)\n",
    "ax1.coastlines(resolution='110m', color='black', linewidth=1,zorder=3)\n",
    "ax1.set_title(\"SAT&wind10m\",fontsize=20,loc='center')\n",
    "ax1.set_title(\"a\",fontsize=24,weight='bold',loc='left')\n",
    "ax1.set_extent(img_extent, ccrs.PlateCarree())\n",
    "kk=5\n",
    "u10_ano[-2,174:182,:],v10_ano[-2,174:182,:] = np.nan, np.nan\n",
    "q = ax1.quiver(lon[::kk],lat[::kk],u10_ano[-2,::kk,::kk],v10_ano[-2,::kk,::kk],color='k',\n",
    "           alpha=0.9,zorder=3,scale=30,headwidth=5,width=0.004,transform=ccrs.PlateCarree())\n",
    "qk = ax1.quiverkey(q, 1.08, 0.89, U=3, label='3',labelpos='N',\n",
    "    zorder=3, coordinates='axes',color='k',fontproperties={'size':18},\n",
    "    labelcolor='k')\n",
    "cf1 = ax1.contourf(cycle_lon,lat,cycle_data[-2], zorder=2,levels=np.arange(-7,8,1),  \n",
    "                   extend = 'both',transform=ccrs.PlateCarree(), cmap=cmaps.BlueWhiteOrangeRed)\n",
    "cb = fig.colorbar(cf1,orientation='vertical',shrink=0.7,pad=0.035)\n",
    "cb.ax.set_colorbar(minor='off')\n",
    "\n",
    "fig.savefig(\"/public/home/songqh/project/ISM_impact_Antarctic/figures/response_figures/support-8a.jpeg\",dpi=600, bbox_inches='tight')\n"
   ]
  },
  {
   "cell_type": "code",
   "execution_count": null,
   "metadata": {},
   "outputs": [],
   "source": [
    "cycle_data,cycle_lon = add_cyclic_point(sic_ano, coord=lon1)\n",
    "leftlon, rightlon, lowerlat, upperlat = (-180,180,-50,-90)\n",
    "img_extent = [leftlon, rightlon, lowerlat, upperlat]\n",
    "fig = plt.figure(figsize=(5,4))\n",
    "ax1 = plt.axes(projection=ccrs.Orthographic(central_longitude=120.0, central_latitude=-90.0, globe=None))\n",
    "ax1.gridlines(linestyle='--',zorder=2)\n",
    "theta = np.linspace(0, 2*np.pi, 100)\n",
    "center, radius = [0.5, 0.5], 0.5\n",
    "verts = np.vstack([np.sin(theta), np.cos(theta)]).T\n",
    "circle = mpath.Path(verts * radius + center)\n",
    "ax1.set_boundary(circle, transform=ax1.transAxes)\n",
    "ax1.add_feature(cfeature.COASTLINE.with_scale('110m'),color='k',linewidth=1.5,zorder=3)\n",
    "ax1.add_feature(cfeature.LAND, facecolor='lightgray',zorder=3)\n",
    "ax1.coastlines(resolution='110m', color='black', linewidth=1,zorder=3)\n",
    "ax1.set_title(\"SIC\",fontsize=20,loc='center')\n",
    "ax1.set_title(\"b\",fontsize=24,weight='bold',loc='left')\n",
    "ax1.set_extent(img_extent, ccrs.PlateCarree())\n",
    "cf1 = ax1.contourf(cycle_lon,lat1,cycle_data[-2], zorder=2,levels=np.linspace(-0.5,0.5,21),  \n",
    "                   extend = 'both',transform=ccrs.PlateCarree(), cmap=new_cmocean_balance_r)\n",
    "cb = fig.colorbar(cf1,orientation='vertical',shrink=0.7,pad=0.035)\n",
    "cb.ax.set_colorbar(minor='off')\n",
    "fig.savefig(\"/public/home/songqh/project/ISM_impact_Antarctic/figures/response_figures/support-8b.jpeg\",dpi=600, bbox_inches='tight')"
   ]
  }
 ],
 "metadata": {
  "kernelspec": {
   "display_name": "base",
   "language": "python",
   "name": "python3"
  },
  "language_info": {
   "codemirror_mode": {
    "name": "ipython",
    "version": 3
   },
   "file_extension": ".py",
   "mimetype": "text/x-python",
   "name": "python",
   "nbconvert_exporter": "python",
   "pygments_lexer": "ipython3",
   "version": "3.9.12"
  }
 },
 "nbformat": 4,
 "nbformat_minor": 2
}
