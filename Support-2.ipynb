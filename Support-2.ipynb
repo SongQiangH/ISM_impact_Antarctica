{
 "cells": [
  {
   "cell_type": "code",
   "execution_count": null,
   "metadata": {},
   "outputs": [],
   "source": [
    "import cartopy.crs as ccrs\n",
    "import matplotlib.pylab as plt\n",
    "import cartopy.feature as cfeature\n",
    "import numpy as np\n",
    "import xarray as xr\n",
    "import cmaps\n",
    "from  scipy  import stats\n",
    "import matplotlib as mpl\n",
    "from eofs.standard import Eof\n",
    "import sys\n",
    "sys.path.append('/public/home/songqh/Documents/python_packages/')\n",
    "from sqh_toolbox import plot_figure\n",
    "import warnings\n",
    "warnings.filterwarnings(\"ignore\") \n",
    "plt.rcParams[\"font.family\"] = \"Liberation Sans\"\n",
    "plt.rcParams[\"font.weight\"] = \"regular\""
   ]
  },
  {
   "cell_type": "code",
   "execution_count": null,
   "metadata": {},
   "outputs": [],
   "source": [
    "file1 = xr.open_dataset(\"/public/home/songqh/my_data/new_ERA5/monthly/ERA5_precipitation_1940-2024.nc\")\n",
    "precip_index = file1['tp'].loc[file1.time.dt.year.isin(np.arange(1979,2025,1))&file1.time.dt.month.isin([6,7,8]),28:10,70:100].groupby('time.year').mean('time').rename({'year':'time'}).mean(('longitude','latitude'))*1000\n",
    "precip_index = (precip_index - np.mean(precip_index,axis=0))/np.std(precip_index)"
   ]
  },
  {
   "cell_type": "code",
   "execution_count": null,
   "metadata": {},
   "outputs": [],
   "source": [
    "file0 = xr.open_dataset(\"/public/home/songqh/my_data/ice_cover/HadISST_ice.nc\")\n",
    "file0.coords['longitude'] = np.mod(file0['longitude'], 360)\n",
    "file0 = file0.reindex({ 'longitude' : np.sort(file0['longitude'])})\n",
    "sic = file0['sic'].loc[file0.time.dt.year.isin(np.arange(1979,2025,1))\n",
    "                        & file0.time.dt.month.isin([6,7,8]),-30:-90].groupby('time.year').mean('time')\n",
    "sic_mean = sic.mean('year')\n",
    "sic_ano = sic - sic_mean\n",
    "sic_std = np.std(sic,axis=0)\n",
    "lon1 = file0['longitude'].loc[120:350]\n",
    "lat1 = file0['latitude'].loc[-40:-90]\n",
    "sic_zone = sic_ano.loc[:,-40:-90,120:350].values\n",
    "lat1 = np.array(lat1)\n",
    "coslat = np.cos(np.deg2rad(lat1))\n",
    "wgts = np.sqrt(coslat)[..., np.newaxis]\n",
    "solver = Eof(sic_zone, weights=wgts)\n",
    "eof =solver.eofsAsCorrelation(neofs=3)\n",
    "pc = solver.pcs(npcs=3, pcscaling=1)\n",
    "var = solver.varianceFraction()\n",
    "print(var[:3])\n",
    "pc1 = pc[:,0]\n",
    "pc2 = pc[:,1]\n",
    "pc3 = pc[:,2]\n",
    "eof1 = eof[0,:,:]\n",
    "eof2 = eof[1,:,:]\n",
    "eof3 = eof[2,:,:]"
   ]
  },
  {
   "cell_type": "code",
   "execution_count": null,
   "metadata": {},
   "outputs": [],
   "source": [
    "r,p = stats.pearsonr(pc1,precip_index[:])\n",
    "print(\"r:\",r,\"p:\",p)"
   ]
  },
  {
   "cell_type": "code",
   "execution_count": null,
   "metadata": {},
   "outputs": [],
   "source": [
    "def get_cmap_pr(n_colors: int, newcmap , method: int = None) -> list:\n",
    "    index = list(range(1, n_colors + 1))\n",
    "    color_list = [newcmap(i / n_colors) for i in index]\n",
    "    if method == 1:\n",
    "        color_list[0] = [1., 1., 1.]  \n",
    "    elif method == 2:\n",
    "        mid_index = len(color_list) // 2\n",
    "        color_list[mid_index] = [1., 1., 1.]  \n",
    "        color_list[mid_index - 1] = [1., 1., 1.]\n",
    "    return color_list\n",
    "new_cmocean_balance_r = mpl.colors.ListedColormap(get_cmap_pr(20,cmaps.cmocean_balance_r,method=2))"
   ]
  },
  {
   "cell_type": "code",
   "execution_count": null,
   "metadata": {},
   "outputs": [],
   "source": [
    "fig = plt.figure(figsize=(12,12))\n",
    "map_proj = ccrs.LambertConformal(\n",
    "    central_longitude=230, standard_parallels=(-60, -50))\n",
    "ax1 = fig.add_subplot(211,projection =map_proj)\n",
    "ax1.set_extent([120, 340, -90, -55], crs=ccrs.PlateCarree())\n",
    "ax1.spines['geo'].set_linewidth(1)\n",
    "ax1.spines['geo'].set_zorder(4)\n",
    "ax1.spines['geo'].set_edgecolor('black')\n",
    "cf1 = ax1.contourf(lon1,lat1,-eof1, zorder=1,levels=np.linspace(-1,1,21),  \n",
    "                   extend = 'both',transform=ccrs.PlateCarree(), cmap=new_cmocean_balance_r)\n",
    "ax1.add_feature(cfeature.COASTLINE.with_scale('110m'),color='k',linewidth=1,zorder=4)\n",
    "ax1.add_feature(cfeature.LAND.with_scale('110m'),color='lightgray',zorder=3)\n",
    "ax1.set_title(\"JJA SIC EOF1 (var=28%)\",fontsize=20,loc='center')\n",
    "ax1.set_title(\"a\",fontsize=24,weight='bold',loc='left')\n",
    "gl = ax1.gridlines(draw_labels=False, linestyle='--', color='gray', alpha=0.7, linewidth=0.5,zorder=4)\n",
    "pos = fig.add_axes([0.87,0.58,0.015,0.26])\n",
    "cb = fig.colorbar(cf1,orientation='vertical',cax=pos)\n",
    "cb.ax.set_colorbar(minor='off')\n",
    "\n",
    "ax2 = fig.add_axes([0.168,0.22,0.69,0.25])\n",
    "ax2.plot(np.arange(1979,2025),precip_index,c=\"#d76364\",lw=2.5,markersize=8,label='ERA5-rainfall',zorder=1)\n",
    "ax2.plot(np.arange(1979,2025),pc1,zorder=2,color='#2F7FC1',lw=2.5,markersize=8,label='SIC-PC1')\n",
    "ax2.set_detail()\n",
    "ax2.axhline(0,c='k',lw=0.5,linestyle='--')\n",
    "ax2.set_ylim(-3.5,3.5)\n",
    "ax2.set_xlim(1978,2025)\n",
    "ax2.set_title(\"JJA rainfall & SIC-PC1\",fontsize=20)\n",
    "ax2.set_title(\"b\",fontsize=24,weight='bold',loc='left')\n",
    "ax2.text(2003,-2.5,\"R=0.10 (P>0.1)\",fontsize=18)\n",
    "ax2.legend(frameon=False,fontsize=18,ncol=2,handlelength=1.15,handletextpad=0.3,columnspacing=1.5,labelspacing=0.5,loc='upper left')\n",
    "\n",
    "fig.savefig(\"/public/home/songqh/project/ISM_impact_Antarctica/figures/response_figures/support-2.jpeg\",dpi=600, bbox_inches='tight')"
   ]
  }
 ],
 "metadata": {
  "kernelspec": {
   "display_name": "base",
   "language": "python",
   "name": "python3"
  },
  "language_info": {
   "codemirror_mode": {
    "name": "ipython",
    "version": 3
   },
   "file_extension": ".py",
   "mimetype": "text/x-python",
   "name": "python",
   "nbconvert_exporter": "python",
   "pygments_lexer": "ipython3",
   "version": "3.9.12"
  }
 },
 "nbformat": 4,
 "nbformat_minor": 2
}
