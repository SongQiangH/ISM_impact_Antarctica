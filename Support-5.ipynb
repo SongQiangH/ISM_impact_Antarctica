{
 "cells": [
  {
   "cell_type": "code",
   "execution_count": null,
   "metadata": {},
   "outputs": [],
   "source": [
    "import numpy as np\n",
    "import cartopy.crs as ccrs\n",
    "import matplotlib.pyplot as plt\n",
    "import xarray as xr\n",
    "import cmaps\n",
    "import warnings\n",
    "import sacpy as scp\n",
    "from cartopy.util import add_cyclic_point\n",
    "import matplotlib as mpl\n",
    "import sys\n",
    "sys.path.append('/public/home/songqh/Documents/python_packages/')\n",
    "from sqh_toolbox import plot_figure\n",
    "warnings.filterwarnings(\"ignore\") \n",
    "plt.rcParams[\"font.family\"] = \"Liberation Sans\"\n",
    "plt.rcParams[\"font.weight\"] = \"regular\""
   ]
  },
  {
   "cell_type": "code",
   "execution_count": null,
   "metadata": {},
   "outputs": [],
   "source": [
    "def get_cmap_pr(n_colors: int, newcmap , method: int = None) -> list:\n",
    "    index = list(range(1, n_colors + 1))\n",
    "    color_list = [newcmap(i / n_colors) for i in index]\n",
    "    if method == 1:\n",
    "        color_list[0] = [1., 1., 1.]  \n",
    "    elif method == 2:\n",
    "        mid_index = len(color_list) // 2\n",
    "        color_list[mid_index] = [1., 1., 1.]  \n",
    "        color_list[mid_index - 1] = [1., 1., 1.]\n",
    "    return color_list\n",
    "new_CBR_coldhot = mpl.colors.ListedColormap(get_cmap_pr(18,cmaps.CBR_coldhot,method=2))\n",
    "new_cmocean_balance_r = mpl.colors.ListedColormap(get_cmap_pr(20,cmaps.cmocean_balance_r,method=2))"
   ]
  },
  {
   "cell_type": "code",
   "execution_count": null,
   "metadata": {},
   "outputs": [],
   "source": [
    "uwnd = np.load(\"/public/home/songqh/project/ISM_impact_Antarctica/data/uwnd_200hPa_1979-2024.npy\")\n",
    "lat = np.load(\"/public/home/songqh/project/ISM_impact_Antarctica/data/lat.npy\")\n",
    "lon = np.load(\"/public/home/songqh/project/ISM_impact_Antarctica/data/lon.npy\")\n",
    "dy = 1.0  \n",
    "uwnd_grad_y = np.gradient(uwnd, dy, axis=1)\n",
    "uwnd_grad_y_mean = np.nanmean(uwnd_grad_y,axis=0)"
   ]
  },
  {
   "cell_type": "code",
   "execution_count": null,
   "metadata": {},
   "outputs": [],
   "source": [
    "file1 = xr.open_dataset(\"/public/home/songqh/my_data/new_ERA5/monthly/ERA5_precipitation_1979-2024.nc\")\n",
    "precip_index = file1['tp'].loc[file1.time.dt.year.isin(np.arange(1979,2025,1))&file1.time.dt.month.isin([6,7,8]),28:10,70:100].groupby('time.year').mean('time').rename({'year':'time'}).mean(('longitude','latitude'))*1000\n",
    "precip_index = (precip_index - np.mean(precip_index,axis=0))/np.std(precip_index)"
   ]
  },
  {
   "cell_type": "code",
   "execution_count": null,
   "metadata": {},
   "outputs": [],
   "source": [
    "LRG1 = scp.LinReg(precip_index,uwnd_grad_y[:])"
   ]
  },
  {
   "cell_type": "code",
   "execution_count": null,
   "metadata": {},
   "outputs": [],
   "source": [
    "cycle_uwnd_grad_y_mean,cycle_lon = add_cyclic_point(uwnd_grad_y_mean, coord=lon)\n",
    "cycle_slope,cycle_lon = add_cyclic_point(LRG1.slope, coord=lon)\n",
    "fig = plt.figure(figsize=(12,8))\n",
    "ax1 = fig.add_subplot(211,projection = ccrs.PlateCarree(central_longitude=150))\n",
    "ax1.draw_map([-60,280,-90,30],latspec=30,res=110)\n",
    "ax1.set_title(\"Mean ∂u/∂y\",fontsize=20,loc='center')\n",
    "ax1.set_title(\"a\",fontsize=24,weight='bold',loc='left')\n",
    "cf1 = ax1.contourf(cycle_lon,lat,cycle_uwnd_grad_y_mean, zorder=2,levels=np.linspace(-8,8,11),  \n",
    "                   extend = 'both',transform=ccrs.PlateCarree(), cmap=new_CBR_coldhot)\n",
    "cb = fig.colorbar(cf1,orientation='vertical',shrink=0.7,pad=0.02)\n",
    "cb.ax.set_colorbar(minor='off')\n",
    "\n",
    "ax2 = fig.add_subplot(212,projection = ccrs.PlateCarree(central_longitude=150))\n",
    "ax2.draw_map([-60,280,-90,30],latspec=30)\n",
    "ax2.set_title(\"∂u/∂y reg. on ISM rainfall index\",fontsize=20,loc='center')\n",
    "ax2.set_title(\"b\",fontsize=24,weight='bold',loc='left')\n",
    "cf2 = ax2.contourf(cycle_lon,lat,cycle_slope, zorder=2,levels=np.linspace(-0.5,0.5,11),  \n",
    "                   extend = 'both',transform=ccrs.PlateCarree(), cmap=new_CBR_coldhot)\n",
    "cb = fig.colorbar(cf2,orientation='vertical',shrink=0.7,pad=0.02)\n",
    "cb.ax.set_colorbar(minor='off')\n",
    "fig.savefig(\"/public/home/songqh/project/ISM_impact_Antarctica/figures/npj_figure/support-5.jpeg\",dpi=600, bbox_inches='tight')"
   ]
  }
 ],
 "metadata": {
  "kernelspec": {
   "display_name": "base",
   "language": "python",
   "name": "python3"
  },
  "language_info": {
   "codemirror_mode": {
    "name": "ipython",
    "version": 3
   },
   "file_extension": ".py",
   "mimetype": "text/x-python",
   "name": "python",
   "nbconvert_exporter": "python",
   "pygments_lexer": "ipython3",
   "version": "3.10.9"
  }
 },
 "nbformat": 4,
 "nbformat_minor": 2
}
