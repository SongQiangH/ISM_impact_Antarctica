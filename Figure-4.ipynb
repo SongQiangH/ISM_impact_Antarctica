{
 "cells": [
  {
   "cell_type": "code",
   "execution_count": null,
   "metadata": {},
   "outputs": [],
   "source": [
    "import cartopy.crs as ccrs\n",
    "import matplotlib.pylab as plt\n",
    "import numpy as np\n",
    "import xarray as xr\n",
    "import cmaps\n",
    "import sacpy as scp\n",
    "from cartopy.util import add_cyclic_point\n",
    "from matplotlib.colors import LinearSegmentedColormap\n",
    "from matplotlib import cm\n",
    "import sys\n",
    "sys.path.append('/public/home/songqh/Documents/python_packages/')\n",
    "from sqh_toolbox import plot_figure\n",
    "import warnings\n",
    "warnings.filterwarnings(\"ignore\") \n",
    "plt.rcParams[\"font.family\"] = \"Liberation Sans\"\n",
    "plt.rcParams[\"font.weight\"] = \"bold\""
   ]
  },
  {
   "cell_type": "code",
   "execution_count": null,
   "metadata": {},
   "outputs": [],
   "source": [
    "file1 = xr.open_dataset(\"/public/home/songqh/my_data/new_ERA5/monthly/ERA5_precipitation_1940-2024.nc\")\n",
    "precip = file1['tp'].loc[file1.time.dt.year.isin(np.arange(1979,2025,1))&file1.time.dt.month.isin([6,7,8]),40:0,60:100].groupby('time.year').mean('time').rename({'year':'time'})*1000/30\n",
    "precip_mean = precip.mean('time')\n",
    "lon1 = precip.longitude.loc[60:100]\n",
    "lat1 = precip.latitude.loc[40:0]"
   ]
  },
  {
   "cell_type": "code",
   "execution_count": null,
   "metadata": {},
   "outputs": [],
   "source": [
    "file1 = xr.open_dataset(\"/public/home/songqh/my_data/new_ERA5/monthly/ERA5_precipitation_1940-2024.nc\")\n",
    "precip_index = file1['tp'].loc[file1.time.dt.year.isin(np.arange(1979,2025,1))&file1.time.dt.month.isin([6,7,8]),27:10,70:100].groupby('time.year').mean('time').rename({'year':'time'}).mean(('longitude','latitude'))*1000\n",
    "precip_index = (precip_index - np.mean(precip_index,axis=0))/np.std(precip_index)"
   ]
  },
  {
   "cell_type": "code",
   "execution_count": null,
   "metadata": {},
   "outputs": [],
   "source": [
    "rainfall = np.zeros((41,41))\n",
    "rainfall[12:35,3:40]=precip_mean[12:35,3:40]"
   ]
  },
  {
   "cell_type": "code",
   "execution_count": null,
   "metadata": {},
   "outputs": [],
   "source": [
    "gph = np.load(\"/public/home/songqh/project/ISM_impact_Antarctic/data/gph_200hPa_1979-2024.npy\")\n",
    "t2m = np.load(\"/public/home/songqh/project/ISM_impact_Antarctic/data/t2m_1979-2024.npy\")\n",
    "lon = np.load(\"/public/home/songqh/project/ISM_impact_Antarctic/data/lon.npy\")\n",
    "lat = np.load(\"/public/home/songqh/project/ISM_impact_Antarctic/data/lat.npy\")"
   ]
  },
  {
   "cell_type": "code",
   "execution_count": null,
   "metadata": {},
   "outputs": [],
   "source": [
    "LinReg1 = scp.LinReg(precip_index[:],gph[:]).slope\n",
    "LinReg2 = scp.LinReg(precip_index[:],t2m[:]).slope\n",
    "LinReg2[:140,:] = 0"
   ]
  },
  {
   "cell_type": "code",
   "execution_count": null,
   "metadata": {},
   "outputs": [],
   "source": [
    "ncl_cmap = cm.get_cmap(cmaps.CBR_wet, 256)  \n",
    "cmap_colors = ncl_cmap(np.linspace(0, 1, 256))  \n",
    "cmap_colors = cmap_colors[30:]\n",
    "modified_CBR_wet = LinearSegmentedColormap.from_list(\"modified_CBR_wet\", cmap_colors)"
   ]
  },
  {
   "cell_type": "code",
   "execution_count": null,
   "metadata": {},
   "outputs": [],
   "source": [
    "cycle_slope,cycle_lon = add_cyclic_point(LinReg2, coord=lon)\n",
    "plt.figure(figsize=(12,12))\n",
    "ax = plt.axes(projection=ccrs.Orthographic(central_longitude=90, central_latitude=-40))\n",
    "ax.coastlines(resolution='50m',color='k',zorder=4,lw=1.2)\n",
    "ax.contourf(lon1,lat1,rainfall,zorder=3,levels=np.linspace(0,1,11),\n",
    "    transform=ccrs.PlateCarree(), cmap=modified_CBR_wet)\n",
    "ax.contour(lon,lat,LinReg1/9.8,colors='k',linewidths=1.8,levels=np.linspace(-30,30,15), zorder=3,transform=ccrs.PlateCarree())\n",
    "ax.contourf(cycle_lon,lat,cycle_slope, zorder=2,levels=np.linspace(-1,1,11),  \n",
    "                   extend = 'both',transform=ccrs.PlateCarree(), cmap=cmaps.BlueWhiteOrangeRed)\n",
    "plt.savefig(\"/public/home/songqh/project/ISM_impact_Antarctic/figures/response_figures/diagram.jpeg\",dpi=600, bbox_inches='tight')"
   ]
  }
 ],
 "metadata": {
  "kernelspec": {
   "display_name": "base",
   "language": "python",
   "name": "python3"
  },
  "language_info": {
   "codemirror_mode": {
    "name": "ipython",
    "version": 3
   },
   "file_extension": ".py",
   "mimetype": "text/x-python",
   "name": "python",
   "nbconvert_exporter": "python",
   "pygments_lexer": "ipython3",
   "version": "3.9.12"
  }
 },
 "nbformat": 4,
 "nbformat_minor": 2
}
