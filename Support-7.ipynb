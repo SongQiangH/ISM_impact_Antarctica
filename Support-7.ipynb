{
 "cells": [
  {
   "cell_type": "code",
   "execution_count": null,
   "metadata": {},
   "outputs": [],
   "source": [
    "import numpy as np\n",
    "import cartopy.crs as ccrs\n",
    "import matplotlib.pyplot as plt\n",
    "import cmaps\n",
    "import sys\n",
    "sys.path.append('/public/home/songqh/Documents/python_packages/')\n",
    "from sqh_toolbox import plot_figure\n",
    "import warnings\n",
    "warnings.filterwarnings(\"ignore\") \n",
    "plt.rcParams[\"font.family\"] = \"Liberation Sans\"\n",
    "plt.rcParams[\"font.weight\"] = \"regular\""
   ]
  },
  {
   "cell_type": "code",
   "execution_count": null,
   "metadata": {},
   "outputs": [],
   "source": [
    "q1 = np.load(\"/public/home/songqh/project/ISM_impact_Antarctic/data/q_mean.npy\")\n",
    "integral_q = np.load(\"/public/home/songqh/project/ISM_impact_Antarctic/data/integral_q.npy\")\n",
    "integral_q_mean = np.mean(integral_q[:,::-1,:],axis=0)\n",
    "q1_mean = np.mean(q1[:,:,::-1,:],axis=0)\n",
    "integral_data = np.zeros((181,360))\n",
    "heat_data = np.zeros((27,181,360))\n",
    "integral_data[100:118,70:101] = integral_q_mean[100:118,70:101]\n",
    "heat_data[:,100:118,70:101] = q1_mean[:,100:118,70:101]\n",
    "heat_data[heat_data<0] = 0\n",
    "integral_data[integral_data<0] = 0\n",
    "heat_profile = np.nanmean(heat_data[:,100:118,70:101],axis=(1,2))"
   ]
  },
  {
   "cell_type": "code",
   "execution_count": null,
   "metadata": {},
   "outputs": [],
   "source": [
    "lon = np.load(\"/public/home/songqh/project/ISM_impact_Antarctic/data/lon.npy\")\n",
    "lat = np.load(\"/public/home/songqh/project/ISM_impact_Antarctic/data/lat.npy\")[::-1]\n",
    "lev = np.load(\"/public/home/songqh/project/ISM_impact_Antarctic/data/lev.npy\")[:-5]"
   ]
  },
  {
   "cell_type": "code",
   "execution_count": null,
   "metadata": {},
   "outputs": [],
   "source": [
    "fig = plt.figure(figsize=(16,4))\n",
    "ax1 = fig.add_subplot(121,projection = ccrs.PlateCarree(central_longitude=140))\n",
    "ax1.draw_map([55,105,0,40],lonspec=20,latspec=10)\n",
    "cf1 = ax1.contourf(lon,lat, integral_data, zorder=2,\n",
    "                   levels=np.linspace(0,100,11),  \n",
    "                   extend = 'both',transform=ccrs.PlateCarree(), cmap=cmaps.sunshine_9lev)\n",
    "ax1.set_title(\"<Q1> spatial pattern\",fontsize=20,loc='center')\n",
    "ax1.set_title(\"a\",weight='bold',fontsize=24,loc='left')\n",
    "\n",
    "cb = fig.colorbar(cf1,orientation='vertical',shrink=0.8,pad=0.02)\n",
    "cb.ax.set_colorbar()\n",
    "\n",
    "ax2 = fig.add_axes([0.53,0.126,0.23,0.755])\n",
    "ax2.plot(heat_profile,lev,lw=2,color=[219/255,49/255,36/255]) \n",
    "ax2.set_detail()\n",
    "ax2.set_title(\"Q1 profile\",fontsize=20,loc='center')\n",
    "ax2.set_xticks([0,0.01,0.02,0.03,0.04])\n",
    "ax2.set_ylabel(\"High (hPa)\",fontsize=18,labelpad=-10)\n",
    "ax2.set_title(\"b\",weight='bold',fontsize=24,loc='left')\n",
    "ax = plt.gca()\n",
    "ax.invert_yaxis()\n",
    "fig.savefig(\"/public/home/songqh/project/ISM_impact_Antarctic/figures/response_figures/support-7.jpeg\",dpi=600, bbox_inches='tight')"
   ]
  }
 ],
 "metadata": {
  "kernelspec": {
   "display_name": "base",
   "language": "python",
   "name": "python3"
  },
  "language_info": {
   "codemirror_mode": {
    "name": "ipython",
    "version": 3
   },
   "file_extension": ".py",
   "mimetype": "text/x-python",
   "name": "python",
   "nbconvert_exporter": "python",
   "pygments_lexer": "ipython3",
   "version": "3.9.12"
  }
 },
 "nbformat": 4,
 "nbformat_minor": 2
}
