{
 "cells": [
  {
   "cell_type": "code",
   "execution_count": null,
   "metadata": {},
   "outputs": [],
   "source": [
    "import cartopy.crs as ccrs\n",
    "import cartopy.feature as cfeature\n",
    "import matplotlib.pylab as plt\n",
    "import numpy as np\n",
    "import matplotlib.path as mpath  \n",
    "plt.rcParams[\"font.family\"] = \"Liberation Sans\"\n",
    "plt.rcParams[\"font.weight\"] = \"regular\""
   ]
  },
  {
   "cell_type": "code",
   "execution_count": null,
   "metadata": {},
   "outputs": [],
   "source": [
    "leftlon, rightlon, lowerlat, upperlat = (-180,180,-50,-90)\n",
    "img_extent = [leftlon, rightlon, lowerlat, upperlat]\n",
    "fig = plt.figure(figsize=(6,5))\n",
    "ax1 = plt.axes(projection=ccrs.Orthographic(central_longitude=120.0, central_latitude=-90.0, globe=None))\n",
    "ax1.gridlines(linestyle='--',zorder=2)\n",
    "theta = np.linspace(0, 2*np.pi, 100)\n",
    "center, radius = [0.5, 0.5], 0.5\n",
    "verts = np.vstack([np.sin(theta), np.cos(theta)]).T\n",
    "circle = mpath.Path(verts * radius + center)\n",
    "ax1.set_boundary(circle, transform=ax1.transAxes)\n",
    "ax1.add_feature(cfeature.LAND, facecolor='lightgray',zorder=3)\n",
    "ax1.coastlines(resolution='110m', color='black', linewidth=1,zorder=3)\n",
    "ax1.set_title(\"region of Antarctica\",fontsize=20,loc='center')\n",
    "ax1.set_extent(img_extent, ccrs.PlateCarree())\n",
    "\n",
    "ax1.plot([20, 20], [lowerlat, upperlat], color='black', linewidth=1.5, linestyle='-', transform=ccrs.PlateCarree(), zorder=4)\n",
    "ax1.plot([140, 140], [lowerlat, upperlat], color='black', linewidth=1.5, linestyle='-', transform=ccrs.PlateCarree(), zorder=4)\n",
    "ax1.plot([230, 230], [lowerlat, upperlat], color='black', linewidth=1.5, linestyle='-', transform=ccrs.PlateCarree(), zorder=4)\n",
    "ax1.plot([270, 270], [lowerlat, upperlat], color='black', linewidth=1.5, linestyle='-', transform=ccrs.PlateCarree(), zorder=4)\n",
    "ax1.plot([300, 300], [lowerlat, upperlat], color='black', linewidth=1.5, linestyle='-', transform=ccrs.PlateCarree(), zorder=4)\n",
    "ax1.plot([345, 345], [lowerlat, upperlat], color='black', linewidth=1.5, linestyle='-', transform=ccrs.PlateCarree(), zorder=4)\n",
    "\n",
    "ax1.text(70, -60, 'IO', fontsize=18,rotation=0,color='black',  transform=ccrs.PlateCarree(),zorder=5)\n",
    "ax1.text(190, -65, 'RS', fontsize=18,rotation=0,color='black',  transform=ccrs.PlateCarree(),zorder=5)\n",
    "ax1.text(290, -60, 'BS', fontsize=18,rotation=0,color='black',  transform=ccrs.PlateCarree(),zorder=5)\n",
    "ax1.text(255, -60, 'AS', fontsize=18,rotation=0,color='black',  transform=ccrs.PlateCarree(),zorder=5)\n",
    "ax1.text(325, -58, 'WS', fontsize=18,rotation=0,color='black',  transform=ccrs.PlateCarree(),zorder=5)\n",
    "ax1.text(3, -58, 'AO', fontsize=18,rotation=0,color='black',  transform=ccrs.PlateCarree(),zorder=5)\n",
    "fig.savefig(\"/public/home/songqh/project/ISM_impact_Antarctica/figures/response_figures/support-1.jpeg\",dpi=600, bbox_inches='tight')"
   ]
  }
 ],
 "metadata": {
  "kernelspec": {
   "display_name": "base",
   "language": "python",
   "name": "python3"
  },
  "language_info": {
   "codemirror_mode": {
    "name": "ipython",
    "version": 3
   },
   "file_extension": ".py",
   "mimetype": "text/x-python",
   "name": "python",
   "nbconvert_exporter": "python",
   "pygments_lexer": "ipython3",
   "version": "3.9.12"
  }
 },
 "nbformat": 4,
 "nbformat_minor": 2
}
