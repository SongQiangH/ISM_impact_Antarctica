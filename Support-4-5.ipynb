{
 "cells": [
  {
   "cell_type": "code",
   "execution_count": null,
   "metadata": {},
   "outputs": [],
   "source": [
    "import cartopy.crs as ccrs\n",
    "import matplotlib.pylab as plt\n",
    "import numpy as np\n",
    "import xarray as xr\n",
    "import cmaps\n",
    "import cartopy.feature as cfeature\n",
    "import sacpy as scp\n",
    "from matplotlib.lines import Line2D\n",
    "import matplotlib.path as mpath  \n",
    "import matplotlib as mpl\n",
    "from cartopy.util import add_cyclic_point\n",
    "import sys\n",
    "sys.path.append('/public/home/songqh/Documents/python_packages/')\n",
    "from sqh_toolbox import plot_figure\n",
    "from waf import tnwaf\n",
    "import warnings\n",
    "warnings.filterwarnings(\"ignore\") \n",
    "plt.rcParams[\"font.family\"] = \"Liberation Sans\"\n",
    "plt.rcParams[\"font.weight\"] = \"regular\""
   ]
  },
  {
   "cell_type": "code",
   "execution_count": null,
   "metadata": {},
   "outputs": [],
   "source": [
    "file = xr.open_dataset(\"/public/home/songqh/my_data/new_ERA5/monthly/ERA5_precipitation_1940-2024.nc\")\n",
    "precip_index  = file['tp'].loc[file.time.dt.year.isin(np.arange(1979,2025)) & file.time.dt.month.isin([6,7,8]),28:10,70:100].groupby('time.year').mean('time').mean(('latitude','longitude'))\n",
    "precip_index  = (precip_index  - np.mean(precip_index )) / np.std(precip_index )"
   ]
  },
  {
   "cell_type": "code",
   "execution_count": null,
   "metadata": {},
   "outputs": [],
   "source": [
    "years = np.arange(1979,2025,1)\n",
    "highyear = years[np.where(precip_index>1)]\n",
    "lowyear = years[np.where(precip_index<-1)]\n",
    "print(highyear)\n",
    "print(lowyear)"
   ]
  },
  {
   "cell_type": "code",
   "execution_count": null,
   "metadata": {},
   "outputs": [],
   "source": [
    "ds_sst = xr.open_dataset(\"/public/home/songqh/my_data/SST/HadISST_sst.nc\")\n",
    "nino34 = ds_sst['sst'].loc[ds_sst.time.dt.year.isin(np.arange(1979,2025)) & ds_sst.time.dt.month.isin([6,7,8]),5:-5,-170:-120].mean(('longitude','latitude')).values.reshape((46,3)).mean(1)\n",
    "nino34 = (nino34 - nino34.mean())/np.std(nino34)\n",
    "dmi_w = ds_sst['sst'].loc[ds_sst.time.dt.year.isin(np.arange(1979,2025)) & ds_sst.time.dt.month.isin([6,7,8]),10:-10,50:70].mean(('longitude','latitude')).values.reshape((46,3)).mean(1)\n",
    "dmi_e = ds_sst['sst'].loc[ds_sst.time.dt.year.isin(np.arange(1979,2025)) & ds_sst.time.dt.month.isin([6,7,8]),0:-10,90:110].mean(('longitude','latitude')).values.reshape((46,3)).mean(1)\n",
    "dmi = dmi_w - dmi_e\n",
    "dmi = (dmi - dmi.mean())/np.std(dmi)"
   ]
  },
  {
   "cell_type": "code",
   "execution_count": null,
   "metadata": {},
   "outputs": [],
   "source": [
    "fig = plt.figure(figsize=(9, 4))\n",
    "ax = fig.add_subplot(111)\n",
    "ax.set_ylim(-2.4, 2.4)\n",
    "ax.set_xlim(1978, 2025)\n",
    "ax.set_detail()\n",
    "ax.plot(years, precip_index, c='k', lw=2,  zorder=3)\n",
    "ax.axhline(-1, lw=1.5, linestyle='--', c='g')\n",
    "ax.axhline(1, lw=1.5, linestyle='--', c='g')\n",
    "\n",
    "idx_pos = np.where(nino34 > 1.5)[0]\n",
    "idx_neg = np.where(nino34 < -1.5)[0]\n",
    "idx_dmi_pos = np.where(dmi > 1.5)[0]\n",
    "idx_dmi_neg = np.where(dmi < -1.5)[0]\n",
    "\n",
    "ax.scatter(years[idx_pos], [2.3]*len(idx_pos), marker='v', c='red', zorder=4, label='Nino > 1.5')\n",
    "ax.scatter(years[idx_neg], [-2.3]*len(idx_neg), marker='^', c='blue', zorder=4, label='Nino < -1.5')\n",
    "ax.scatter(years[idx_dmi_pos], [2.1]*len(idx_dmi_pos), marker='s', c='red', zorder=4, label='DMI > 1.5')\n",
    "ax.scatter(years[idx_dmi_neg], [-2.1]*len(idx_dmi_neg), marker='s', c='blue', zorder=4, label='DMI < -1.5')\n",
    "\n",
    "marked_years = np.unique(np.concatenate([\n",
    "    years[idx_pos], years[idx_neg],\n",
    "    years[idx_dmi_pos], years[idx_dmi_neg]]))\n",
    "\n",
    "for y in highyear:\n",
    "    if y not in marked_years:\n",
    "        ax.axvline(y, color='r', linewidth=4, alpha=0.35)\n",
    "for y in lowyear:\n",
    "    if y not in marked_years:\n",
    "        ax.axvline(y, color='gray', linewidth=4, alpha=0.35)\n",
    "\n",
    "legend_elements = [\n",
    "    Line2D([0], [0], color='k', lw=2, label='Precip index'),\n",
    "    Line2D([0], [0], marker='^', color='w', label='El Niño',\n",
    "           markerfacecolor='red', markersize=10),\n",
    "    Line2D([0], [0], marker='v', color='w', label='La Niña',\n",
    "           markerfacecolor='blue', markersize=10),\n",
    "    Line2D([0], [0], marker='s', color='w', label='Positive IOD',\n",
    "           markerfacecolor='red', markersize=10),\n",
    "    Line2D([0], [0], marker='s', color='w', label='Negative IOD',\n",
    "           markerfacecolor='blue', markersize=10),\n",
    "    Line2D([0], [0], color='r', lw=4, alpha=0.5, label='High precip index'),\n",
    "    Line2D([0], [0], color='gray', lw=4, alpha=0.5, label='Low precip index')\n",
    "    ]\n",
    "ax.legend(handles=legend_elements, loc='center left', bbox_to_anchor=(1.02, 0.5), fontsize=16,frameon=False)\n",
    "ax.set_title(\"Interannual variation JJA rainfall\", fontsize=20)\n",
    "fig.savefig(\"/public/home/songqh/project/ISM_impact_Antarctic/figures/response_figures/support-4.jpeg\",dpi=600, bbox_inches='tight')"
   ]
  },
  {
   "cell_type": "code",
   "execution_count": null,
   "metadata": {},
   "outputs": [],
   "source": [
    "highyear_not_marked = [year for year in highyear if year not in marked_years]\n",
    "lowyear_not_marked = [year for year in lowyear if year not in marked_years]"
   ]
  },
  {
   "cell_type": "code",
   "execution_count": null,
   "metadata": {},
   "outputs": [],
   "source": [
    "high_positions = np.where(np.isin(years, highyear_not_marked))[0]\n",
    "low_positions = np.where(np.isin(years, lowyear_not_marked))[0]\n",
    "print(\"high_positions:\", high_positions)\n",
    "print(\"low_positions:\", low_positions)"
   ]
  },
  {
   "cell_type": "code",
   "execution_count": null,
   "metadata": {},
   "outputs": [],
   "source": [
    "print(\"high_ISM_years:\",years[high_positions])\n",
    "print(\"low_ISM_years:\",years[low_positions])"
   ]
  },
  {
   "cell_type": "code",
   "execution_count": null,
   "metadata": {},
   "outputs": [],
   "source": [
    "gph = np.load(\"/public/home/songqh/project/ISM_impact_Antarctic/data/gph_200hPa_1979-2024.npy\")\n",
    "uwnd = np.load(\"/public/home/songqh/project/ISM_impact_Antarctic/data/uwnd_200hPa_1979-2024.npy\")\n",
    "vwnd = np.load(\"/public/home/songqh/project/ISM_impact_Antarctic/data/vwnd_200hPa_1979-2024.npy\")\n",
    "u10 = np.load(\"/public/home/songqh/project/ISM_impact_Antarctic/data/u10_1979-2024.npy\")\n",
    "v10 = np.load(\"/public/home/songqh/project/ISM_impact_Antarctic/data/v10_1979-2024.npy\")\n",
    "t2m = np.load(\"/public/home/songqh/project/ISM_impact_Antarctic/data/t2m_1979-2024.npy\")\n",
    "slp = np.load(\"/public/home/songqh/project/ISM_impact_Antarctic/data/slp_1979-2024.npy\")\n",
    "lon = np.load(\"/public/home/songqh/project/ISM_impact_Antarctic/data/lon.npy\")\n",
    "lat = np.load(\"/public/home/songqh/project/ISM_impact_Antarctic/data/lat.npy\")\n",
    "ds_rws = xr.open_dataset(\"/public/home/songqh/project/ISM_impact_Antarctic/data/rws_output.nc\")\n",
    "rws =  ds_rws['s1']"
   ]
  },
  {
   "cell_type": "code",
   "execution_count": null,
   "metadata": {},
   "outputs": [],
   "source": [
    "file0 = xr.open_dataset(\"/public/home/songqh/my_data/ice_cover/HadISST_ice.nc\")\n",
    "sic = file0['sic'].loc[file0.time.dt.year.isin(np.arange(1979,2025,1))\n",
    "                        & file0.time.dt.month.isin([6,7,8])].groupby('time.year').mean('time')\n",
    "sic_high = file0['sic'].loc[file0.time.dt.year.isin(np.arange(1979,2025,1)[high_positions]) \n",
    "            & file0.time.dt.month.isin([6,7,8])].groupby('time.year').mean('time')\n",
    "sic_low = file0['sic'].loc[file0.time.dt.year.isin(np.arange(1979,2025,1)[low_positions]) \n",
    "            & file0.time.dt.month.isin([6,7,8])].groupby('time.year').mean('time')\n",
    "lon0 = file0['longitude']\n",
    "lat0 = file0['latitude']"
   ]
  },
  {
   "cell_type": "code",
   "execution_count": null,
   "metadata": {},
   "outputs": [],
   "source": [
    "sic_high_low_diff, sic_high_low_p = scp.two_mean_test(sic_high,sic_low)\n",
    "gph_high_low_diff, gph_high_low_p = scp.two_mean_test(gph[high_positions],gph[low_positions])\n",
    "slp_high_low_diff, slp_high_low_p = scp.two_mean_test(slp[high_positions],slp[low_positions])\n",
    "u10_high_low_diff, u10_high_low_p = scp.two_mean_test(u10[high_positions],u10[low_positions])\n",
    "v10_high_low_diff, v10_high_low_p = scp.two_mean_test(v10[high_positions],v10[low_positions])\n",
    "t2m_high_low_diff, t2m_high_low_p = scp.two_mean_test(t2m[high_positions],t2m[low_positions])\n",
    "rws_high_low_diff, RWS_high_low_p = scp.two_mean_test(rws[high_positions],rws[low_positions])\n",
    "u10_copy = np.where((u10_high_low_p > 0.05) & (v10_high_low_p > 0.05) , np.nan, u10_high_low_diff)\n",
    "v10_copy = np.where((u10_high_low_p > 0.05) & (v10_high_low_p > 0.05) , np.nan, v10_high_low_diff)"
   ]
  },
  {
   "cell_type": "code",
   "execution_count": null,
   "metadata": {},
   "outputs": [],
   "source": [
    "px = np.full((181,360),np.nan)\n",
    "py = np.full((181,360),np.nan)\n",
    "_,px,py= tnwaf(gph_high_low_diff,uwnd,vwnd,lon,lat,200)\n",
    "px[:110],py[:110]=np.nan,np.nan\n",
    "px[np.sqrt(px**2+py**2)<0.01]=np.nan\n",
    "py[np.sqrt(px**2+py**2)<0.01]=np.nan"
   ]
  },
  {
   "cell_type": "code",
   "execution_count": null,
   "metadata": {},
   "outputs": [],
   "source": [
    "def get_cmap_pr(n_colors: int, newcmap , method: int = None) -> list:\n",
    "    index = list(range(1, n_colors + 1))\n",
    "    color_list = [newcmap(i / n_colors) for i in index]\n",
    "    if method == 1:\n",
    "        color_list[0] = [1., 1., 1.]  \n",
    "    elif method == 2:\n",
    "        mid_index = len(color_list) // 2\n",
    "        color_list[mid_index] = [1., 1., 1.]  \n",
    "        color_list[mid_index - 1] = [1., 1., 1.]\n",
    "    return color_list\n",
    "new_CBR_coldhot = mpl.colors.ListedColormap(get_cmap_pr(18,cmaps.CBR_coldhot,method=2))\n",
    "new_cmocean_balance_r = mpl.colors.ListedColormap(get_cmap_pr(20,cmaps.cmocean_balance_r,method=2))"
   ]
  },
  {
   "cell_type": "code",
   "execution_count": null,
   "metadata": {},
   "outputs": [],
   "source": [
    "cycle_gph_high_low_diff,cycle_lon = add_cyclic_point(gph_high_low_diff, coord=lon)\n",
    "cycle_rws_high_low_diff,cycle_lon = add_cyclic_point(rws_high_low_diff, coord=lon)\n",
    "fig = plt.figure(figsize=(12,6))\n",
    "ax1 = fig.add_subplot(111,projection = ccrs.PlateCarree(central_longitude=150))\n",
    "ax1.draw_map([-60,280,-90,30],latspec=30)\n",
    "ax1.set_title(\"GPH&RWS&WAF@200hPa\",fontsize=20,loc='center')\n",
    "ax1.set_title(\"c\",fontsize=24,weight='bold',loc='left')\n",
    "cf1 = ax1.contourf(cycle_lon,lat,cycle_gph_high_low_diff/9.8, zorder=2,levels=np.arange(-200,220,20),  \n",
    "                   extend = 'both',transform=ccrs.PlateCarree(), cmap=new_CBR_coldhot)\n",
    "rws_high_low_diff[160:,:] = np.nan\n",
    "ax1.contour(cycle_lon,lat,cycle_rws_high_low_diff, zorder=2,levels=[2,4,6],colors='purple',transform=ccrs.PlateCarree())\n",
    "ax1.contour(cycle_lon,lat,cycle_rws_high_low_diff, zorder=2,levels=[-6,-4,-2],colors='purple',transform=ccrs.PlateCarree())\n",
    "ax1.contourf(lon,lat, gph_high_low_p, levels =[0,0.05,1],hatches=['..', None], \n",
    "                 zorder=3,colors=\"none\", transform=ccrs.PlateCarree())\n",
    "kk=8\n",
    "q = ax1.quiver(lon[::kk],lat[::kk],px[::kk,::kk],py[::kk,::kk],alpha=0.7,color='g',scale=50, \n",
    "               width=0.003,headwidth=4, headlength=5, headaxislength=4, zorder=3,transform=ccrs.PlateCarree())\n",
    "qk = ax1.quiverkey(q, 1.036, 0.99, U=2, label='2',labelpos='N',\n",
    "        zorder=3, coordinates='axes',color='g',fontproperties={'size': 18},labelcolor='k')\n",
    "cb = fig.colorbar(cf1,orientation='vertical',shrink=0.5,pad=0.02)\n",
    "cb.ax.set_colorbar(minor='off')\n",
    "cb.set_ticks(np.arange(-160, 240, 80))\n",
    "fig.savefig(\"/public/home/songqh/project/ISM_impact_Antarctic/figures/response_figures/support-5c.jpeg\",dpi=600, bbox_inches='tight')"
   ]
  },
  {
   "cell_type": "code",
   "execution_count": null,
   "metadata": {},
   "outputs": [],
   "source": [
    "cycle_slp_high_low_diff,cycle_lon = add_cyclic_point(slp_high_low_diff, coord=lon)\n",
    "fig = plt.figure(figsize=(12,6))\n",
    "ax1 = fig.add_subplot(111,projection = ccrs.PlateCarree(central_longitude=150))\n",
    "ax1.draw_map([-60,280,-90,30],latspec=30)\n",
    "ax1.set_title(\"SLP&wind10m\",fontsize=20,loc='center')\n",
    "ax1.set_title(\"d\",fontsize=24,weight='bold',loc='left')\n",
    "cf1 = ax1.contourf(cycle_lon,lat,cycle_slp_high_low_diff, zorder=2,levels=np.arange(-900,1000,180),  \n",
    "                   extend = 'both',transform=ccrs.PlateCarree(), cmap=new_CBR_coldhot)\n",
    "ax1.contourf(lon,lat, slp_high_low_p, levels =[0,0.05,1],hatches=['..', None], \n",
    "                 zorder=3,colors=\"none\", transform=ccrs.PlateCarree())\n",
    "q = ax1.quiver(lon[::6],lat[::6],u10_high_low_diff[::6,::6],v10_high_low_diff[::6,::6],zorder=3,\n",
    "          scale=60,alpha=0.9,color='gray',transform=ccrs.PlateCarree())\n",
    "q = ax1.quiver(lon[::6],lat[::6],u10_copy[::6,::6],v10_copy[::6,::6],zorder=3,color='k',\n",
    "          scale=60,transform=ccrs.PlateCarree())\n",
    "qk = ax1.quiverkey(q, 1.036, 0.99, U=3, label='3',lw=0.04,labelpos='N',zorder=3,\n",
    "                    coordinates='axes',color='k',fontproperties={'size': 18},labelcolor='k')\n",
    "cb = fig.colorbar(cf1,orientation='vertical',shrink=0.5,pad=0.02)\n",
    "cb.ax.set_colorbar(minor='off')\n",
    "fig.savefig(\"/public/home/songqh/project/ISM_impact_Antarctic/figures/response_figures/support-5d.jpeg\",dpi=600, bbox_inches='tight')"
   ]
  },
  {
   "cell_type": "code",
   "execution_count": null,
   "metadata": {},
   "outputs": [],
   "source": [
    "cycle_data,cycle_lon = add_cyclic_point(t2m_high_low_diff, coord=lon)\n",
    "theta = np.linspace(0, 2*np.pi, 100)  \n",
    "center, radius = [0.5, 0.5], 0.5  \n",
    "verts = np.vstack([np.sin(theta), np.cos(theta)]).T\n",
    "circle = mpath.Path(verts * radius + center)  \n",
    "fig = plt.figure(figsize=(5, 4))\n",
    "ax = plt.axes(projection=ccrs.Orthographic(central_longitude=120.0, central_latitude=-90.0, globe=None))\n",
    "ax.set_extent([-180, 180, -50, -90], ccrs.PlateCarree())\n",
    "gl = ax.gridlines(linestyle='--',zorder=2)\n",
    "ax.set_boundary(circle, transform=ax.transAxes)  \n",
    "ax.add_feature(cfeature.COASTLINE.with_scale('110m'),linewidth=1,zorder=3) \n",
    "u10_high_low_diff[170:182,:],v10_high_low_diff[170:182,:] = np.nan, np.nan\n",
    "u10_copy[170:182,:],v10_copy[170:182,:] = np.nan, np.nan\n",
    "kk = 6\n",
    "q = ax.quiver(lon[::kk],lat[::kk],u10_high_low_diff[::kk,::kk],v10_high_low_diff[::kk,::kk],\n",
    "           color='gray',alpha=0.9,zorder=3,scale=27,headwidth=5,width=0.004,transform=ccrs.PlateCarree())\n",
    "q = ax.quiver(lon[::kk],lat[::kk],u10_copy[::kk,::kk],v10_copy[::kk,::kk],\n",
    "              color='k',scale=27,headwidth=5,width=0.004,zorder=3,transform=ccrs.PlateCarree())\n",
    "qk = ax.quiverkey(q, 1.07, 0.903, U=3, label='3',labelpos='N',\n",
    "    zorder=3, coordinates='axes',color='k',fontproperties={'size': 18},\n",
    "    labelcolor='k')\n",
    "cf1 = ax.contourf(cycle_lon,lat,cycle_data, zorder=2,levels=np.arange(-5,6,1),  \n",
    "                   extend = 'both',transform=ccrs.PlateCarree(), cmap=cmaps.BlueWhiteOrangeRed)\n",
    "ax.contourf(lon,lat, t2m_high_low_p, levels =[0,0.05,1],hatches=['..', None], \n",
    "                 zorder=3,colors=\"none\", transform=ccrs.PlateCarree())\n",
    "cb = fig.colorbar(cf1,orientation='vertical',shrink=0.7,pad=0.035)\n",
    "cb.ax.set_colorbar(minor='off')\n",
    "ax.set_title(\"SAT&wind10m\",fontsize=20,loc='center')\n",
    "ax.set_title(\"a\",fontsize=24,weight='bold',loc='left')\n",
    "fig.savefig(\"/public/home/songqh/project/ISM_impact_Antarctic/figures/response_figures/support-5a.jpeg\",dpi=600, bbox_inches='tight')"
   ]
  },
  {
   "cell_type": "code",
   "execution_count": null,
   "metadata": {},
   "outputs": [],
   "source": [
    "cycle_high_low_diff,cycle_lon = add_cyclic_point(sic_high_low_diff, coord=lon0)\n",
    "leftlon, rightlon, lowerlat, upperlat = (-180,180,-50,-90)\n",
    "img_extent = [leftlon, rightlon, lowerlat, upperlat]\n",
    "fig = plt.figure(figsize=(5, 4))\n",
    "ax1 = plt.axes(projection=ccrs.Orthographic(central_longitude=120.0, central_latitude=-90.0, globe=None))\n",
    "ax1.gridlines(linestyle='--',zorder=2)\n",
    "theta = np.linspace(0, 2*np.pi, 100)\n",
    "center, radius = [0.5, 0.5], 0.5\n",
    "verts = np.vstack([np.sin(theta), np.cos(theta)]).T\n",
    "circle = mpath.Path(verts * radius + center)\n",
    "ax1.set_boundary(circle, transform=ax1.transAxes)\n",
    "ax1.add_feature(cfeature.LAND, facecolor='lightgray',zorder=3)\n",
    "ax1.add_feature(cfeature.COASTLINE.with_scale('110m'),color='k',linewidth=1,zorder=3)\n",
    "ax1.set_title(\"SIC\",fontsize=20,loc='center')\n",
    "ax1.set_title(\"b\",fontsize=24,weight='bold',loc='left')\n",
    "ax1.set_extent(img_extent, ccrs.PlateCarree())\n",
    "cf1 = ax1.contourf(cycle_lon,lat0,cycle_high_low_diff, zorder=2,levels=np.linspace(-0.4,0.4,21),  \n",
    "                   extend = 'both',transform=ccrs.PlateCarree(), cmap=new_cmocean_balance_r)\n",
    "ax1.contourf(lon0,lat0, sic_high_low_p, levels =[0,0.05,1],hatches=['..', None], \n",
    "                 zorder=3,colors=\"none\", transform=ccrs.PlateCarree())\n",
    "cb = fig.colorbar(cf1,orientation='vertical',shrink=0.7,pad=0.035)\n",
    "cb.ax.set_colorbar(minor='off')\n",
    "fig.savefig(\"/public/home/songqh/project/ISM_impact_Antarctic/figures/response_figures/support-5b.jpeg\",dpi=600, bbox_inches='tight')"
   ]
  },
  {
   "cell_type": "code",
   "execution_count": null,
   "metadata": {},
   "outputs": [],
   "source": [
    "file3 = xr.open_dataset(\"/public/home/songqh/my_data/new_ERA5/monthly/ERA5_vwnd_1979-2024.nc\")\n",
    "vwnd = file3['v'].loc[file3.time.dt.month.isin([6,7,8]),1000:100,60:-90,60:100].groupby('time.year').mean('time')\n",
    "vwnd = vwnd[:,::-1,:,:]\n",
    "vwnd_high = vwnd[high_positions]\n",
    "vwnd_low = vwnd[low_positions]\n",
    "lev = file3['level'].loc[1000:100].values\n",
    "levv = lev[::-1]\n",
    "latv = file3['latitude'].loc[60:-90].values"
   ]
  },
  {
   "cell_type": "code",
   "execution_count": null,
   "metadata": {},
   "outputs": [],
   "source": [
    "va = vwnd.mean(('longitude'))\n",
    "va_high = vwnd_high.mean(('longitude'))\n",
    "va_low = vwnd_low.mean(('longitude'))\n",
    "coslat = np.cos(lat*np.pi/180)\n",
    "g = 9.8 \n",
    "a = 6400000 \n",
    "k1 = latv.shape[0]\n",
    "msf = np.zeros([46,27,k1])\n",
    "msf_high = np.zeros([len(high_positions),27,k1])\n",
    "msf_low = np.zeros([len(low_positions),27,k1])\n",
    "for t in range(46):\n",
    "    for j in range(27):\n",
    "        for k in range(k1): \n",
    "            f0 = np.trapz(va[t,0:j,k],levv[0:j],axis=0)\n",
    "            msf[t,j,k] = 2*np.pi*a*f0*coslat[k]/g\n",
    "for t in range(len(high_positions)):\n",
    "    for j in range(27):\n",
    "        for k in range(k1): \n",
    "            f0 = np.trapz(va_high[t,0:j,k],levv[0:j],axis=0)\n",
    "            msf_high[t,j,k] = 2*np.pi*a*f0*coslat[k]/g\n",
    "for t in range(len(low_positions)):\n",
    "    for j in range(27):\n",
    "        for k in range(k1): \n",
    "            f0 = np.trapz(va_low[t,0:j,k],levv[0:j],axis=0)\n",
    "            msf_low[t,j,k] = 2*np.pi*a*f0*coslat[k]/g\n",
    "msfu = msf/(10**9) \n",
    "msfu_high = msf_high/(10**9) \n",
    "msfu_low = msf_low/(10**9) "
   ]
  },
  {
   "cell_type": "code",
   "execution_count": null,
   "metadata": {},
   "outputs": [],
   "source": [
    "msfu_high_low_diff, msfu_high_low_p = scp.two_mean_test(msfu[high_positions],msfu[low_positions])"
   ]
  },
  {
   "cell_type": "code",
   "execution_count": null,
   "metadata": {},
   "outputs": [],
   "source": [
    "fig = plt.figure(figsize=(16.45,4))\n",
    "ax1 = plt.subplot(111)\n",
    "ax1.set_detail()\n",
    "ax1.set_ylabel('High (hPa)',fontsize=20)\n",
    "ax1.set_yscale('symlog')\n",
    "ax1.set_yticks([200,300,500,700,850,1000])\n",
    "ax1.set_yticklabels(['200','300','500','700','850','1000'],fontsize=20)\n",
    "ax1.set_ylim(1000,200) \n",
    "ax1.set_xlim(-90,30) \n",
    "ax1.axvline(10,c='g',lw=2.5)\n",
    "ax1.axvline(28,c='g',lw=2.5)\n",
    "ax1.set_xticks([-90,-75,-60,-45,-30,-15,0,15,30])\n",
    "ax1.set_xticklabels([r'90$^\\degree$S',r'75$^\\degree$S',\n",
    "        r'60$^\\degree$S',r'45$^\\degree$S', r'30$^\\degree$S',\n",
    "         r'15$^\\degree$S', r'0$^\\degree$',\n",
    "         r'15$^\\degree$N',  r'30$^\\degree$N'] ,fontsize=20)\n",
    "pos = fig.add_axes([0.911,0.175,0.008,0.65])\n",
    "c1 = ax1.contourf(latv,levv,msfu_high_low_diff,\n",
    "    levels=np.linspace(-2,2,11), \n",
    "    extend = 'both',zorder=0, cmap=cmaps.MPL_RdBu_r)\n",
    "c2 = ax1.contour(latv,levv,msfu.mean(0),levels=np.linspace(-7,7,11), \n",
    "        extend = 'both',zorder=1, colors = 'k')\n",
    "ax1.contourf(latv,levv, msfu_high_low_p, levels =[0,0.05,1],hatches=['..', None], \n",
    "                 zorder=3,colors=\"none\")\n",
    "cb = fig.colorbar(c1,orientation='vertical',format='%.2f',cax=pos)\n",
    "cb.ax.set_colorbar(minor='off',fontsize=18)\n",
    "ax1.set_title(\"Mass stream function\",fontsize=20,loc='center')\n",
    "ax1.set_title(\"e\",fontsize=24,weight='bold',loc='left')\n",
    "fig.savefig('/public/home/songqh/project/ISM_impact_Antarctic/figures/response_figures/support-5e.jpeg',dpi=600, bbox_inches='tight')"
   ]
  }
 ],
 "metadata": {
  "kernelspec": {
   "display_name": "base",
   "language": "python",
   "name": "python3"
  },
  "language_info": {
   "codemirror_mode": {
    "name": "ipython",
    "version": 3
   },
   "file_extension": ".py",
   "mimetype": "text/x-python",
   "name": "python",
   "nbconvert_exporter": "python",
   "pygments_lexer": "ipython3",
   "version": "3.9.12"
  }
 },
 "nbformat": 4,
 "nbformat_minor": 2
}
