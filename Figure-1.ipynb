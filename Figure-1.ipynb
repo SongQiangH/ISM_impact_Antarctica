{
 "cells": [
  {
   "cell_type": "code",
   "execution_count": null,
   "metadata": {},
   "outputs": [],
   "source": [
    "import cartopy.crs as ccrs\n",
    "import matplotlib.pyplot as plt\n",
    "import numpy as np\n",
    "import xarray as xr\n",
    "import cmaps\n",
    "import cartopy.feature as cfeature\n",
    "from  scipy  import stats\n",
    "import matplotlib as mpl\n",
    "import cartopy.io.shapereader as shpreader\n",
    "from matplotlib.colors import LinearSegmentedColormap\n",
    "from matplotlib import cm\n",
    "from eofs.standard import Eof\n",
    "import sys\n",
    "sys.path.append('/public/home/songqh/Documents/python_packages/')\n",
    "from sqh_toolbox import plot_figure\n",
    "import warnings\n",
    "warnings.filterwarnings(\"ignore\") \n",
    "plt.rcParams[\"font.family\"] = \"Liberation Sans\"\n",
    "plt.rcParams[\"font.weight\"] = \"regular\""
   ]
  },
  {
   "cell_type": "code",
   "execution_count": null,
   "metadata": {},
   "outputs": [],
   "source": [
    "file1 = xr.open_dataset(\"/public/home/songqh/my_data/new_ERA5/monthly/ERA5_precipitation_1979-2024.nc\")\n",
    "precip = file1['tp'].loc[file1.time.dt.year.isin(np.arange(1979,2025,1))&file1.time.dt.month.isin([6,7,8]),:,:].groupby('time.year').mean('time').rename({'year':'time'})*1000 # unit converts to mm/day\n",
    "precip_ism = file1['tp'].loc[file1.time.dt.year.isin(np.arange(1979,2025,1))&file1.time.dt.month.isin([6,7,8]),28:10,70:100].groupby('time.year').mean('time').rename({'year':'time'})\n",
    "precip_index = precip_ism.mean(('longitude','latitude'))*1000\n",
    "precip_index = (precip_index - np.mean(precip_index,axis=0))/np.std(precip_index)\n",
    "lon = precip.longitude\n",
    "lat = precip.latitude\n",
    "data = precip.values\n",
    "precip_mean = np.nanmean(data,0)\n",
    "precip_std = np.std(data,axis=0)"
   ]
  },
  {
   "cell_type": "code",
   "execution_count": null,
   "metadata": {},
   "outputs": [],
   "source": [
    "file2 = xr.open_dataset(\"/public/home/songqh/my_data/NCEP1/monthly/precipitation_monthly/GPM.precipitation.monthly.nc\")\n",
    "gpm_precip = file2['precipitation'].loc[file2.time.dt.year.isin(np.arange(1998,2025,1))&file2.time.dt.month.isin([6,7,8]),:,:].groupby('time.year').mean('time').rename({'year':'time'}) # unit converts to mm/day\n",
    "gpm_precip_ism= file2['precipitation'].loc[file2.time.dt.year.isin(np.arange(1998,2025,1))&file2.time.dt.month.isin([6,7,8]),70:100,10:28].groupby('time.year').mean('time').rename({'year':'time'})\n",
    "gpm_precip_index = gpm_precip_ism.values.mean((1,2))*1000\n",
    "gpm_precip_index = (gpm_precip_index - np.mean(gpm_precip_index,axis=0))/np.std(gpm_precip_index)"
   ]
  },
  {
   "cell_type": "code",
   "execution_count": null,
   "metadata": {},
   "outputs": [],
   "source": [
    "file0 = xr.open_dataset(\"/public/home/songqh/my_data/ice_cover/HadISST_ice.nc\")\n",
    "file0.coords['longitude'] = np.mod(file0['longitude'], 360)\n",
    "file0 = file0.reindex({ 'longitude' : np.sort(file0['longitude'])})\n",
    "sic = file0['sic'].loc[file0.time.dt.year.isin(np.arange(1979,2025,1))\n",
    "                        & file0.time.dt.month.isin([6,7,8]),-30:-90].groupby('time.year').mean('time')\n",
    "sic_mean = sic.mean('year')\n",
    "sic_ano = sic - sic_mean\n",
    "lon1 = file0['longitude'].loc[120:350]\n",
    "lat1 = file0['latitude'].loc[-40:-90]\n",
    "sic_zone = sic_ano.loc[:,-40:-90,120:350].values"
   ]
  },
  {
   "cell_type": "code",
   "execution_count": null,
   "metadata": {},
   "outputs": [],
   "source": [
    "lat1 = np.array(lat1)\n",
    "coslat = np.cos(np.deg2rad(lat1))\n",
    "wgts = np.sqrt(coslat)[..., np.newaxis]\n",
    "solver = Eof(sic_zone, weights=wgts)\n",
    "eof =solver.eofsAsCorrelation(neofs=3)\n",
    "pc = solver.pcs(npcs=3, pcscaling=1)\n",
    "var = solver.varianceFraction()\n",
    "pc1 = pc[:,0]\n",
    "pc2 = pc[:,1]\n",
    "eof1 = eof[0,:,:]\n",
    "eof2 = eof[1,:,:]\n",
    "print(\"var:\",var[:3])"
   ]
  },
  {
   "cell_type": "code",
   "execution_count": null,
   "metadata": {},
   "outputs": [],
   "source": [
    "r1,p1 = stats.pearsonr(precip_index,pc2[:])\n",
    "print(\"ERA5_rainfall correlation:\",r1,\"p:\",p1)"
   ]
  },
  {
   "cell_type": "code",
   "execution_count": null,
   "metadata": {},
   "outputs": [],
   "source": [
    "r2,p2 = stats.pearsonr(gpm_precip_index,pc2[19:])\n",
    "print(\"GPM_rainfall correlation:\",r2,\"p:\",p2)"
   ]
  },
  {
   "cell_type": "code",
   "execution_count": null,
   "metadata": {},
   "outputs": [],
   "source": [
    "def get_cmap_pr(n_colors: int, newcmap , method: int = None) -> list:\n",
    "    index = list(range(1, n_colors + 1))\n",
    "    color_list = [newcmap(i / n_colors) for i in index]\n",
    "    if method == 1:\n",
    "        color_list[0] = [1., 1., 1.]  \n",
    "    elif method == 2:\n",
    "        mid_index = len(color_list) // 2\n",
    "        color_list[mid_index] = [1., 1., 1.]  \n",
    "        color_list[mid_index - 1] = [1., 1., 1.]\n",
    "    return color_list\n",
    "new_cmocean_balance_r = mpl.colors.ListedColormap(get_cmap_pr(20,cmaps.cmocean_balance_r,method=2))"
   ]
  },
  {
   "cell_type": "code",
   "execution_count": null,
   "metadata": {},
   "outputs": [],
   "source": [
    "ncl_cmap = cm.get_cmap(cmaps.CBR_wet, 256)  \n",
    "cmap_colors = ncl_cmap(np.linspace(0, 1, 256))  \n",
    "cmap_colors = cmap_colors[30:]\n",
    "modified_CBR_wet = LinearSegmentedColormap.from_list(\"modified_CBR_wet\", cmap_colors)"
   ]
  },
  {
   "cell_type": "code",
   "execution_count": null,
   "metadata": {},
   "outputs": [],
   "source": [
    "fig = plt.figure(figsize=(16,12.5))\n",
    "ax1 = fig.add_axes([0.05,0.585,0.3,0.3],projection = ccrs.PlateCarree(central_longitude=120))\n",
    "ax1.draw_map([60,110,0,40],lonspec=10,latspec=10,res=110)\n",
    "ax1.set_xticks([70, 90, 110], crs=ccrs.PlateCarree())\n",
    "ax1.set_xticklabels(['70°E', '90°E', '110°E'])\n",
    "ax1.set_title(\"JJA rainfall average\",fontsize=20,loc='center')\n",
    "ax1.set_title(\"a\",fontsize=24,weight='bold',loc='left')\n",
    "shp_path = \"/public/home/songqh/Documents/shape/tibet/DBATP_Polygon.shp\"  \n",
    "reader = shpreader.Reader(shp_path)\n",
    "for record in reader.records():\n",
    "    geometry = record.geometry\n",
    "    ax1.add_geometries([geometry], crs=ccrs.PlateCarree(), facecolor='none', zorder=10,edgecolor='purple')\n",
    "cf1 = ax1.contourf(lon[:],lat[:],precip_mean[:,:], zorder=2,levels=np.linspace(0,25,11),  \n",
    "                   extend = 'both',transform=ccrs.PlateCarree(), cmap=modified_CBR_wet)\n",
    "rect = plt.Rectangle((70, 10), 30, 18, edgecolor='#BF1D2D',zorder=10,\n",
    "                     facecolor='None',linewidth=1.5,transform=ccrs.PlateCarree())\n",
    "ax1.add_patch(rect)\n",
    "pos = fig.add_axes([0.36,0.63,0.01,0.2])\n",
    "cb = fig.colorbar(cf1,orientation='vertical',cax=pos)\n",
    "cb.ax.set_colorbar(minor='off')\n",
    "\n",
    "map_proj = ccrs.LambertConformal(\n",
    "    central_longitude=230, standard_parallels=(-60, -50))\n",
    "ax2 = fig.add_axes([0.421,0.585,0.5,0.3],projection =map_proj)\n",
    "ax2.set_extent([120, 340, -90, -55], crs=ccrs.PlateCarree())\n",
    "ax2.spines['geo'].set_linewidth(1)\n",
    "ax2.spines['geo'].set_zorder(4)\n",
    "ax2.spines['geo'].set_edgecolor('black')\n",
    "cf1 = ax2.contourf(lon1,lat1,-eof[1,:,:], zorder=1,levels=np.linspace(-1,1,21),  \n",
    "                   extend = 'both',transform=ccrs.PlateCarree(), cmap=new_cmocean_balance_r)\n",
    "ax2.add_feature(cfeature.COASTLINE.with_scale('110m'),color='k',linewidth=1,zorder=4)\n",
    "ax2.add_feature(cfeature.LAND.with_scale('110m'),color='lightgray',zorder=3)\n",
    "ax2.set_title(\"JJA SIC EOF2 (var=15%)\",fontsize=20,loc='center')\n",
    "ax2.set_title(\"c\",fontsize=24,weight='bold',loc='left')\n",
    "gl = ax2.gridlines(draw_labels=False, linestyle='--', color='gray', alpha=0.7, linewidth=0.5,zorder=4)\n",
    "pos = fig.add_axes([0.918,0.63,0.01,0.2])\n",
    "cb = fig.colorbar(cf1,orientation='vertical',cax=pos)\n",
    "cb.ax.set_colorbar(minor='off')\n",
    "\n",
    "ax3 = fig.add_axes([0.05,0.22,0.3,0.3],projection = ccrs.PlateCarree(central_longitude=120))\n",
    "ax3.draw_map([60,110,0,40],lonspec=10,latspec=10,res=110)\n",
    "ax3.set_xticks([70, 90, 110], crs=ccrs.PlateCarree())\n",
    "ax3.set_xticklabels(['70°E', '90°E', '110°E'])\n",
    "ax3.set_title(\"JJA rainfall S.D.\",fontsize=20,loc='center')\n",
    "ax3.set_title(\"b\",fontsize=24,weight='bold',loc='left')\n",
    "reader = shpreader.Reader(shp_path)\n",
    "for record in reader.records():\n",
    "    geometry = record.geometry\n",
    "    ax3.add_geometries([geometry], crs=ccrs.PlateCarree(), facecolor='none', zorder=10,edgecolor='purple')\n",
    "cf1 = ax3.contourf(lon[:],lat[:],precip_std[:,:], zorder=2,levels=np.linspace(0,4,11),  \n",
    "                   extend = 'both',transform=ccrs.PlateCarree(), cmap=modified_CBR_wet)\n",
    "rect = plt.Rectangle((70, 10), 30, 18, edgecolor='#BF1D2D',zorder=10,\n",
    "                     facecolor='None',linewidth=1.5,transform=ccrs.PlateCarree())\n",
    "ax3.add_patch(rect)\n",
    "pos = fig.add_axes([0.36,0.27,0.01,0.2])\n",
    "cb = fig.colorbar(cf1,orientation='vertical',cax=pos)\n",
    "cb.ax.set_colorbar(minor='off')\n",
    "\n",
    "ax4 = fig.add_axes([0.435,0.22,0.471,0.3])\n",
    "ax4.plot(np.arange(1979,2025),precip_index,c=\"#d76364\",lw=2.5,markersize=8,label='ERA5-rainfall',zorder=1)\n",
    "ax4.plot(np.arange(1979,2025),-pc2,zorder=2,color='#2F7FC1',lw=2.5,markersize=8,label='SIC-PC2')\n",
    "ax4.plot(np.arange(1998,2025),gpm_precip_index,zorder=0,linestyle='--',c='k',lw=2.5,markersize=8,label='GPM-rainfall')\n",
    "ax4.set_detail()\n",
    "ax4.axhline(0,c='k',lw=0.5,linestyle='--')\n",
    "ax4.set_ylim(-3,3.4)\n",
    "ax4.set_xlim(1978,2025)\n",
    "ax4.set_title(\"JJA rainfall & SIC-PC2\",fontsize=20,loc='center')\n",
    "ax4.set_title(\"d\",fontsize=24,weight='bold',loc='left')\n",
    "ax4.text(1990,-2.5,\"r(ERA5-rainfall&PC2)=0.50 (P<0.01)\",fontsize=18)\n",
    "ax4.legend(frameon=False,fontsize=18,ncol=2,handlelength=1.15,handletextpad=0.3,columnspacing=1.5,labelspacing=0.5,loc='upper left')\n",
    "fig.savefig(\"/public/home/songqh/project/ISM_impact_Antarctica/figures/response_figures/figure-1.jpeg\",dpi=600, bbox_inches='tight')"
   ]
  }
 ],
 "metadata": {
  "kernelspec": {
   "display_name": "base",
   "language": "python",
   "name": "python3"
  },
  "language_info": {
   "codemirror_mode": {
    "name": "ipython",
    "version": 3
   },
   "file_extension": ".py",
   "mimetype": "text/x-python",
   "name": "python",
   "nbconvert_exporter": "python",
   "pygments_lexer": "ipython3",
   "version": "3.9.12"
  }
 },
 "nbformat": 4,
 "nbformat_minor": 2
}
