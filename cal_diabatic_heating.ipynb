{
 "cells": [
  {
   "cell_type": "code",
   "execution_count": null,
   "metadata": {},
   "outputs": [],
   "source": [
    "import xarray as xr \n",
    "from metpy.units import units\n",
    "import metpy.constants as constants\n",
    "import metpy.calc as mpcalc\n",
    "import numpy as np\n",
    "import matplotlib.pyplot as plt\n",
    "import cartopy.crs as ccrs\n",
    "from cartopy.util import add_cyclic_point\n",
    "import cmaps\n",
    "import warnings\n",
    "import sys\n",
    "sys.path.append('/public/home/songqh/Documents/python_packages/')\n",
    "from sqh_toolbox import plot_figure\n",
    "warnings.filterwarnings(\"ignore\") \n",
    "plt.rcParams[\"font.family\"] = \"Liberation Sans\"\n",
    "plt.rcParams[\"font.weight\"] = \"regular\""
   ]
  },
  {
   "cell_type": "code",
   "execution_count": null,
   "metadata": {},
   "outputs": [],
   "source": [
    "f_u = xr.open_dataset(\"/public/home/songqh/my_data/new_ERA5/monthly/ERA5_uwnd_1979-2024.nc\")\n",
    "u6 = f_u.u.loc[f_u.time.dt.year.isin(np.arange(1979,2025)) & f_u.time.dt.month.isin(6),1000:100].values[:]\n",
    "u7 = f_u.u.loc[f_u.time.dt.year.isin(np.arange(1979,2025)) & f_u.time.dt.month.isin(7),1000:100].values[:]\n",
    "u8 = f_u.u.loc[f_u.time.dt.year.isin(np.arange(1979,2025)) & f_u.time.dt.month.isin(8),1000:100].values[:]\n",
    "f_v = xr.open_dataset(\"/public/home/songqh/my_data/new_ERA5/monthly/ERA5_vwnd_1979-2024.nc\")\n",
    "v6 = f_v.v.loc[f_v.time.dt.year.isin(np.arange(1979,2025)) & f_v.time.dt.month.isin(6),1000:100].values[:]\n",
    "v7 = f_v.v.loc[f_v.time.dt.year.isin(np.arange(1979,2025)) & f_v.time.dt.month.isin(7),1000:100].values[:]\n",
    "v8 = f_v.v.loc[f_v.time.dt.year.isin(np.arange(1979,2025)) & f_v.time.dt.month.isin(8),1000:100].values[:]\n",
    "f_w = xr.open_dataset(\"/public/home/songqh/my_data/new_ERA5/monthly/ERA5_omega_1979-2024.nc\")\n",
    "w6 = f_w.w.loc[f_w.time.dt.year.isin(np.arange(1979,2025)) & f_w.time.dt.month.isin(6),1000:100].values[:]\n",
    "w7 = f_w.w.loc[f_w.time.dt.year.isin(np.arange(1979,2025)) & f_w.time.dt.month.isin(7),1000:100].values[:]\n",
    "w8 = f_w.w.loc[f_w.time.dt.year.isin(np.arange(1979,2025)) & f_w.time.dt.month.isin(8),1000:100].values[:]\n",
    "f_t = xr.open_dataset(\"/public/home/songqh/my_data/new_ERA5/monthly/ERA5_temperature_1979-2024.nc\")\n",
    "t5 = f_t.t.loc[f_t.time.dt.year.isin(np.arange(1979,2025)) & f_t.time.dt.month.isin(5),1000:100].values[:]\n",
    "t6 = f_t.t.loc[f_t.time.dt.year.isin(np.arange(1979,2025)) & f_t.time.dt.month.isin(6),1000:100].values[:]\n",
    "t7 = f_t.t.loc[f_t.time.dt.year.isin(np.arange(1979,2025)) & f_t.time.dt.month.isin(7),1000:100].values[:]\n",
    "t8 = f_t.t.loc[f_t.time.dt.year.isin(np.arange(1979,2025)) & f_t.time.dt.month.isin(8),1000:100].values[:]"
   ]
  },
  {
   "cell_type": "code",
   "execution_count": null,
   "metadata": {},
   "outputs": [],
   "source": [
    "lon = f_u['longitude'].values\n",
    "lat = f_u['latitude'].values\n",
    "lev = f_u['level'].loc[1000:100].values"
   ]
  },
  {
   "cell_type": "code",
   "execution_count": null,
   "metadata": {},
   "outputs": [],
   "source": [
    "time6 = 30*24*60*60*units.s\n",
    "time7 = 31*24*60*60*units.s\n",
    "time8 = 31*24*60*60*units.s\n",
    "dx, dy = mpcalc.lat_lon_grid_deltas(lon, lat)"
   ]
  },
  {
   "cell_type": "code",
   "execution_count": null,
   "metadata": {},
   "outputs": [],
   "source": [
    "dTdt6 = t6*units.K - t5*units.K\n",
    "dTdt7 = t7*units.K - t6*units.K\n",
    "dTdt8 = t8*units.K - t7*units.K\n",
    "temadvect6 = np.zeros((46,27,181,360))\n",
    "temadvect7 = np.zeros((46,27,181,360))\n",
    "temadvect8 = np.zeros((46,27,181,360))\n",
    "for y in range(46):\n",
    "    for i in range(27):\n",
    "        temadvect6[y,i,:,:] = mpcalc.advection(t6[y,i], u6[y,i], v6[y,i],dx=dx, dy=dy,x_dim=-1, y_dim=-2)\n",
    "        temadvect7[y,i,:,:] = mpcalc.advection(t7[y,i], u7[y,i], v7[y,i],dx=dx, dy=dy,x_dim=-1, y_dim=-2)\n",
    "        temadvect8[y,i,:,:] = mpcalc.advection(t8[y,i], u8[y,i], v8[y,i],dx=dx, dy=dy,x_dim=-1, y_dim=-2)\n",
    "temadvect6 = temadvect6 * units.K/units.s\n",
    "temadvect7 = temadvect7 * units.K/units.s\n",
    "temadvect8 = temadvect8 * units.K/units.s"
   ]
  },
  {
   "cell_type": "code",
   "execution_count": null,
   "metadata": {},
   "outputs": [],
   "source": [
    "pressure = np.array(lev).reshape((1,27,1,1))*units.hPa\n",
    "t_k6 = t6*units.K\n",
    "ss6 = (constants.dry_air_gas_constant* t_k6)/constants.dry_air_spec_heat_press/pressure - np.gradient(t_k6,axis=1)/np.gradient(pressure,axis=1)\n",
    "ver6 = w6*(units.Pa/units.s)*ss6\n",
    "t_k7 = t7*units.K\n",
    "ss7 = (constants.dry_air_gas_constant* t_k7)/constants.dry_air_spec_heat_press/pressure - np.gradient(t_k7,axis=1)/np.gradient(pressure,axis=1)\n",
    "ver7 = w7*(units.Pa/units.s)*ss7\n",
    "t_k8 = t8*units.K\n",
    "ss8 = (constants.dry_air_gas_constant* t_k8)/constants.dry_air_spec_heat_press/pressure - np.gradient(t_k8,axis=1)/np.gradient(pressure,axis=1)\n",
    "ver8 = w8*(units.Pa/units.s)*ss8\n"
   ]
  },
  {
   "cell_type": "code",
   "execution_count": null,
   "metadata": {},
   "outputs": [],
   "source": [
    "q6 = ((dTdt6 - temadvect6*time6 - ver6*time6)*constants.dry_air_spec_heat_press)/time6\n",
    "q7 = ((dTdt7 - temadvect7*time7 - ver7*time7)*constants.dry_air_spec_heat_press)/time7\n",
    "q8 = ((dTdt8 - temadvect8*time8 - ver8*time8)*constants.dry_air_spec_heat_press)/time8"
   ]
  },
  {
   "cell_type": "code",
   "execution_count": null,
   "metadata": {},
   "outputs": [],
   "source": [
    "integral_q6 = np.trapz(q6[:,:],lev[::-1],axis=1)\n",
    "integral_q7 = np.trapz(q7[:,:],lev[::-1],axis=1)\n",
    "integral_q8 = np.trapz(q8[:,:],lev[::-1],axis=1)\n",
    "integral_q = (integral_q6 + integral_q7 + integral_q8) / 3\n",
    "q_mean = np.array(((q6 + q7 + q8) / 3))"
   ]
  },
  {
   "cell_type": "code",
   "execution_count": null,
   "metadata": {},
   "outputs": [],
   "source": [
    "np.save(\"/public/home/songqh/project/ISM_impact_Antarctica/data/integral_q.npy\",np.array(integral_q))\n",
    "np.save(\"/public/home/songqh/project/ISM_impact_Antarctica/data/q_mean.npy\",q_mean)"
   ]
  },
  {
   "cell_type": "code",
   "execution_count": null,
   "metadata": {},
   "outputs": [],
   "source": [
    "cycle_mean,cycle_lon = add_cyclic_point(integral_q.mean(0), coord=lon)\n",
    "fig = plt.figure(figsize=(12,5))\n",
    "ax1 = fig.add_subplot(111,projection = ccrs.PlateCarree(central_longitude=120))\n",
    "ax1.draw_map([0,360,-20,40],lonspec=60,latspec=20)\n",
    "ax1.set_title(\"JJA mean <Q1>\",fontsize=24,loc='center')\n",
    "rect = plt.Rectangle((70, 10), 30, 18, edgecolor='g',zorder=10,\n",
    "                     facecolor='None',linewidth=2,transform=ccrs.PlateCarree())\n",
    "ax1.add_patch(rect)\n",
    "cf1 = ax1.contourf(cycle_lon,lat,cycle_mean, \n",
    "                   zorder=2,levels=np.linspace(-60,60,11),\n",
    "                   extend = 'both',transform=ccrs.PlateCarree(), \n",
    "                   cmap=cmaps.BlueDarkRed18)\n",
    "cb = fig.colorbar(cf1,orientation='vertical',shrink=0.55,pad=0.03)\n",
    "cb.ax.set_colorbar()"
   ]
  }
 ],
 "metadata": {
  "kernelspec": {
   "display_name": "base",
   "language": "python",
   "name": "python3"
  },
  "language_info": {
   "codemirror_mode": {
    "name": "ipython",
    "version": 3
   },
   "file_extension": ".py",
   "mimetype": "text/x-python",
   "name": "python",
   "nbconvert_exporter": "python",
   "pygments_lexer": "ipython3",
   "version": "3.9.12"
  },
  "orig_nbformat": 4
 },
 "nbformat": 4,
 "nbformat_minor": 2
}
